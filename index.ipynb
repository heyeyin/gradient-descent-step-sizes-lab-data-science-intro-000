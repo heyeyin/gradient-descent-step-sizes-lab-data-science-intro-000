{
 "cells": [
  {
   "cell_type": "markdown",
   "metadata": {},
   "source": [
    "# Gradient Descent Step Sizes Lab"
   ]
  },
  {
   "cell_type": "markdown",
   "metadata": {},
   "source": [
    "### Introduction"
   ]
  },
  {
   "cell_type": "markdown",
   "metadata": {},
   "source": [
    "In this lab, we'll practice applying gradient descent.  As we know gradient descent begins with an initial regression line, and moves to a \"best fit\" regression line by changing values of $m$ and $b$ and evaluating the RSS.  So far, we have illustrated this technique by changing the values of $b$ and evaluating the RSS.  In this lab, we will work through applying our technique by changing the value of $m$ instead.  Let's get started."
   ]
  },
  {
   "cell_type": "markdown",
   "metadata": {},
   "source": [
    "### Setting up our initial regression line"
   ]
  },
  {
   "cell_type": "markdown",
   "metadata": {},
   "source": [
    "Once again, we'll take take a look at revenues of movies to predict revenue. "
   ]
  },
  {
   "cell_type": "code",
   "execution_count": 42,
   "metadata": {},
   "outputs": [],
   "source": [
    "first_show = {'budget': 100, 'revenue': 275}\n",
    "second_show = {'budget': 200, 'revenue': 300}\n",
    "third_show = {'budget': 400, 'revenue': 700}\n",
    "\n",
    "shows = [first_show, second_show, third_show]"
   ]
  },
  {
   "cell_type": "markdown",
   "metadata": {},
   "source": [
    "We can start with some values for an initial not-so-accurate regression line, $y = .6x + 133.33$."
   ]
  },
  {
   "cell_type": "code",
   "execution_count": 43,
   "metadata": {},
   "outputs": [],
   "source": [
    "from linear_equations import build_regression_line\n",
    "\n",
    "budgets = list(map(lambda show: show['budget'], shows))\n",
    "revenues = list(map(lambda show: show['revenue'], shows))"
   ]
  },
  {
   "cell_type": "code",
   "execution_count": 44,
   "metadata": {},
   "outputs": [],
   "source": [
    "def regression_line(x):\n",
    "    return .6*x + 133.33"
   ]
  },
  {
   "cell_type": "markdown",
   "metadata": {},
   "source": [
    "Now using the `residual_sum_squares`, function, we calculate the RSS to measure the accuracy of the regression line to our data.  Let's take another look at that function:"
   ]
  },
  {
   "cell_type": "code",
   "execution_count": 45,
   "metadata": {},
   "outputs": [],
   "source": [
    "def squared_error(x, y, m, b):\n",
    "    return (y - (m*x + b))**2\n",
    "\n",
    "def residual_sum_squares(x_values, y_values, m, b):\n",
    "    data_points = list(zip(x_values, y_values))\n",
    "    squared_errors = map(lambda data_point: squared_error(data_point[0], data_point[1], m, b), data_points)\n",
    "    return sum(squared_errors)"
   ]
  },
  {
   "cell_type": "code",
   "execution_count": 46,
   "metadata": {},
   "outputs": [
    {
     "data": {
      "text/html": [
       "<script>requirejs.config({paths: { 'plotly': ['https://cdn.plot.ly/plotly-latest.min']},});if(!window.Plotly) {{require(['plotly'],function(plotly) {window.Plotly=plotly;});}}</script>"
      ],
      "text/vnd.plotly.v1+html": [
       "<script>requirejs.config({paths: { 'plotly': ['https://cdn.plot.ly/plotly-latest.min']},});if(!window.Plotly) {{require(['plotly'],function(plotly) {window.Plotly=plotly;});}}</script>"
      ]
     },
     "metadata": {},
     "output_type": "display_data"
    },
    {
     "data": {
      "application/vnd.plotly.v1+json": {
       "data": [
        {
         "mode": "markers",
         "name": "data",
         "text": [],
         "type": "scatter",
         "uid": "54932e9c-8357-11e9-81b8-116be6612965",
         "x": [
          100,
          200,
          400
         ],
         "y": [
          275,
          300,
          700
         ]
        },
        {
         "mode": "lines",
         "name": "line function",
         "type": "scatter",
         "uid": "54932ffa-8357-11e9-81b8-116be6612965",
         "x": [
          100,
          200,
          400
         ],
         "y": [
          193.33,
          253.33,
          373.33000000000004
         ]
        }
       ],
       "layout": {}
      },
      "text/html": [
       "<div id=\"9f27cffc-5e55-4197-8f0f-ea56576748ab\" style=\"height: 525px; width: 100%;\" class=\"plotly-graph-div\"></div><script type=\"text/javascript\">require([\"plotly\"], function(Plotly) { window.PLOTLYENV=window.PLOTLYENV || {};window.PLOTLYENV.BASE_URL=\"https://plot.ly\";Plotly.newPlot(\"9f27cffc-5e55-4197-8f0f-ea56576748ab\", [{\"mode\": \"markers\", \"name\": \"data\", \"text\": [], \"x\": [100, 200, 400], \"y\": [275, 300, 700], \"type\": \"scatter\", \"uid\": \"5496be18-8357-11e9-81b8-116be6612965\"}, {\"mode\": \"lines\", \"name\": \"line function\", \"x\": [100, 200, 400], \"y\": [193.33, 253.33, 373.33000000000004], \"type\": \"scatter\", \"uid\": \"5496bf58-8357-11e9-81b8-116be6612965\"}], {}, {\"showLink\": true, \"linkText\": \"Export to plot.ly\"})});</script>"
      ],
      "text/vnd.plotly.v1+html": [
       "<div id=\"9f27cffc-5e55-4197-8f0f-ea56576748ab\" style=\"height: 525px; width: 100%;\" class=\"plotly-graph-div\"></div><script type=\"text/javascript\">require([\"plotly\"], function(Plotly) { window.PLOTLYENV=window.PLOTLYENV || {};window.PLOTLYENV.BASE_URL=\"https://plot.ly\";Plotly.newPlot(\"9f27cffc-5e55-4197-8f0f-ea56576748ab\", [{\"mode\": \"markers\", \"name\": \"data\", \"text\": [], \"x\": [100, 200, 400], \"y\": [275, 300, 700], \"type\": \"scatter\", \"uid\": \"5496be18-8357-11e9-81b8-116be6612965\"}, {\"mode\": \"lines\", \"name\": \"line function\", \"x\": [100, 200, 400], \"y\": [193.33, 253.33, 373.33000000000004], \"type\": \"scatter\", \"uid\": \"5496bf58-8357-11e9-81b8-116be6612965\"}], {}, {\"showLink\": true, \"linkText\": \"Export to plot.ly\"})});</script>"
      ]
     },
     "metadata": {},
     "output_type": "display_data"
    }
   ],
   "source": [
    "from plotly.offline import iplot, init_notebook_mode\n",
    "from graph import plot, m_b_trace\n",
    "import plotly.graph_objs as go\n",
    "\n",
    "init_notebook_mode(connected=True)\n",
    "\n",
    "from graph import trace_values, plot\n",
    "\n",
    "data_trace = trace_values(budgets, revenues)\n",
    "regression_trace = m_b_trace(.6, 133.33, budgets)\n",
    "plot([data_trace, regression_trace])"
   ]
  },
  {
   "cell_type": "markdown",
   "metadata": {},
   "source": [
    "### Building a cost curve"
   ]
  },
  {
   "cell_type": "markdown",
   "metadata": {},
   "source": [
    "Now let's use the `residual_sum_squares` function to build a cost curve.  Keeping the $b$ value fixed at $133.33$, write a function called `rss_values`.  \n",
    "* `rss_values` passes our dataset with the `x_values` and `y_values` arguments.  \n",
    "* It also takes a list of values of $m$, and an initial $b$ value as arguments.  \n",
    "* It outputs a dictionary with keys of `m_values` and `rss_values`, with each key pointing to a list of the corresponding values."
   ]
  },
  {
   "cell_type": "code",
   "execution_count": 47,
   "metadata": {},
   "outputs": [],
   "source": [
    "def rss_values(x_values, y_values, m_values, b):\n",
    "    return dict(m_values = list(map(lambda m_value: m_value,m_values)),\n",
    "                rss_values = list(map(lambda m_value: residual_sum_squares(x_values, y_values, m_value, b),m_values)))"
   ]
  },
  {
   "cell_type": "code",
   "execution_count": 48,
   "metadata": {},
   "outputs": [
    {
     "data": {
      "text/plain": [
       "{'m_values': [0.8, 0.9, 1.0, 1.1, 1.2, 1.3, 1.4, 1.5, 1.6, 1.7, 1.8],\n",
       " 'rss_values': [64693.76669999998,\n",
       "  45559.96669999998,\n",
       "  30626.166699999987,\n",
       "  19892.36669999999,\n",
       "  13358.5667,\n",
       "  11024.766700000004,\n",
       "  12890.96670000001,\n",
       "  18957.166700000016,\n",
       "  29223.36670000002,\n",
       "  43689.566700000025,\n",
       "  62355.76670000004]}"
      ]
     },
     "execution_count": 48,
     "metadata": {},
     "output_type": "execute_result"
    }
   ],
   "source": [
    "budgets = list(map(lambda show: show['budget'] ,shows))\n",
    "revenues = list(map(lambda show: show['revenue'] ,shows))\n",
    "initial_m_values = list(range(8, 19, 1))\n",
    "scaled_m_values = list(map(lambda initial_m_value: initial_m_value/10,initial_m_values))\n",
    "b_value = 133.33\n",
    "rss_values(budgets, revenues, scaled_m_values, b_value)\n",
    "\n",
    "# {'m_values': [0.8, 0.9, 1.0, 1.1, 1.2, 1.3, 1.4, 1.5, 1.6, 1.7, 1.8],\n",
    "#  'rss_values': [64693.76669999998,\n",
    "#   45559.96669999998,\n",
    "#   30626.166699999987,\n",
    "#   19892.36669999999,\n",
    "#   13358.5667,\n",
    "#   11024.766700000004,\n",
    "#   12890.96670000001,\n",
    "#   18957.166700000016,\n",
    "#   29223.36670000002,\n",
    "#   43689.566700000025,\n",
    "#   62355.76670000004]}\n"
   ]
  },
  {
   "cell_type": "markdown",
   "metadata": {},
   "source": [
    "Plotly provides for us a table chart, and we can pass the values generated from our `rss_values` function to create a table."
   ]
  },
  {
   "cell_type": "code",
   "execution_count": 49,
   "metadata": {},
   "outputs": [
    {
     "data": {
      "text/html": [
       "<script>requirejs.config({paths: { 'plotly': ['https://cdn.plot.ly/plotly-latest.min']},});if(!window.Plotly) {{require(['plotly'],function(plotly) {window.Plotly=plotly;});}}</script>"
      ],
      "text/vnd.plotly.v1+html": [
       "<script>requirejs.config({paths: { 'plotly': ['https://cdn.plot.ly/plotly-latest.min']},});if(!window.Plotly) {{require(['plotly'],function(plotly) {window.Plotly=plotly;});}}</script>"
      ]
     },
     "metadata": {},
     "output_type": "display_data"
    }
   ],
   "source": [
    "from plotly.offline import iplot, init_notebook_mode\n",
    "from graph import plot\n",
    "import plotly.graph_objs as go\n",
    "\n",
    "init_notebook_mode(connected=True)\n",
    "\n",
    "def plot_table(headers, columns):\n",
    "    trace_cost_chart = go.Table(\n",
    "        header=dict(values=headers,\n",
    "                    line = dict(color='#7D7F80'),\n",
    "                    fill = dict(color='#a1c3d1'),\n",
    "                    align = ['left'] * 5),\n",
    "        cells=dict(values=columns,\n",
    "                   line = dict(color='#7D7F80'),\n",
    "                   fill = dict(color='#EDFAFF'),\n",
    "                   align = ['left'] * 5))\n",
    "    plot([trace_cost_chart])"
   ]
  },
  {
   "cell_type": "code",
   "execution_count": 50,
   "metadata": {},
   "outputs": [
    {
     "data": {
      "application/vnd.plotly.v1+json": {
       "data": [
        {
         "cells": {
          "align": [
           "left",
           "left",
           "left",
           "left",
           "left"
          ],
          "fill": {
           "color": "#EDFAFF"
          },
          "line": {
           "color": "#7D7F80"
          },
          "values": [
           [
            0.8,
            0.9,
            1,
            1.1,
            1.2,
            1.3,
            1.4,
            1.5,
            1.6,
            1.7,
            1.8
           ],
           [
            64693.76669999998,
            45559.96669999998,
            30626.166699999987,
            19892.36669999999,
            13358.5667,
            11024.766700000004,
            12890.96670000001,
            18957.166700000016,
            29223.36670000002,
            43689.566700000025,
            62355.76670000004
           ]
          ]
         },
         "header": {
          "align": [
           "left",
           "left",
           "left",
           "left",
           "left"
          ],
          "fill": {
           "color": "#a1c3d1"
          },
          "line": {
           "color": "#7D7F80"
          },
          "values": [
           "M values",
           "RSS values"
          ]
         },
         "type": "table",
         "uid": "55ba56ba-8357-11e9-81b8-116be6612965"
        }
       ],
       "layout": {}
      },
      "text/html": [
       "<div id=\"020ca256-08cd-48d8-9ff5-bca219f7c9db\" style=\"height: 525px; width: 100%;\" class=\"plotly-graph-div\"></div><script type=\"text/javascript\">require([\"plotly\"], function(Plotly) { window.PLOTLYENV=window.PLOTLYENV || {};window.PLOTLYENV.BASE_URL=\"https://plot.ly\";Plotly.newPlot(\"020ca256-08cd-48d8-9ff5-bca219f7c9db\", [{\"cells\": {\"align\": [\"left\", \"left\", \"left\", \"left\", \"left\"], \"fill\": {\"color\": \"#EDFAFF\"}, \"line\": {\"color\": \"#7D7F80\"}, \"values\": [[0.8, 0.9, 1.0, 1.1, 1.2, 1.3, 1.4, 1.5, 1.6, 1.7, 1.8], [64693.76669999998, 45559.96669999998, 30626.166699999987, 19892.36669999999, 13358.5667, 11024.766700000004, 12890.96670000001, 18957.166700000016, 29223.36670000002, 43689.566700000025, 62355.76670000004]]}, \"header\": {\"align\": [\"left\", \"left\", \"left\", \"left\", \"left\"], \"fill\": {\"color\": \"#a1c3d1\"}, \"line\": {\"color\": \"#7D7F80\"}, \"values\": [\"M values\", \"RSS values\"]}, \"type\": \"table\", \"uid\": \"55be7d1c-8357-11e9-81b8-116be6612965\"}], {}, {\"showLink\": true, \"linkText\": \"Export to plot.ly\"})});</script>"
      ],
      "text/vnd.plotly.v1+html": [
       "<div id=\"020ca256-08cd-48d8-9ff5-bca219f7c9db\" style=\"height: 525px; width: 100%;\" class=\"plotly-graph-div\"></div><script type=\"text/javascript\">require([\"plotly\"], function(Plotly) { window.PLOTLYENV=window.PLOTLYENV || {};window.PLOTLYENV.BASE_URL=\"https://plot.ly\";Plotly.newPlot(\"020ca256-08cd-48d8-9ff5-bca219f7c9db\", [{\"cells\": {\"align\": [\"left\", \"left\", \"left\", \"left\", \"left\"], \"fill\": {\"color\": \"#EDFAFF\"}, \"line\": {\"color\": \"#7D7F80\"}, \"values\": [[0.8, 0.9, 1.0, 1.1, 1.2, 1.3, 1.4, 1.5, 1.6, 1.7, 1.8], [64693.76669999998, 45559.96669999998, 30626.166699999987, 19892.36669999999, 13358.5667, 11024.766700000004, 12890.96670000001, 18957.166700000016, 29223.36670000002, 43689.566700000025, 62355.76670000004]]}, \"header\": {\"align\": [\"left\", \"left\", \"left\", \"left\", \"left\"], \"fill\": {\"color\": \"#a1c3d1\"}, \"line\": {\"color\": \"#7D7F80\"}, \"values\": [\"M values\", \"RSS values\"]}, \"type\": \"table\", \"uid\": \"55be7d1c-8357-11e9-81b8-116be6612965\"}], {}, {\"showLink\": true, \"linkText\": \"Export to plot.ly\"})});</script>"
      ]
     },
     "metadata": {},
     "output_type": "display_data"
    }
   ],
   "source": [
    "cost_chart = rss_values(budgets, revenues, scaled_m_values, b_value)\n",
    "if cost_chart: \n",
    "    column_values = list(cost_chart.values())\n",
    "    plot_table(headers = ['M values', 'RSS values'], columns=column_values)"
   ]
  },
  {
   "cell_type": "markdown",
   "metadata": {},
   "source": [
    "And let's plot this out using a a line chart."
   ]
  },
  {
   "cell_type": "code",
   "execution_count": 51,
   "metadata": {},
   "outputs": [
    {
     "data": {
      "text/html": [
       "<script>requirejs.config({paths: { 'plotly': ['https://cdn.plot.ly/plotly-latest.min']},});if(!window.Plotly) {{require(['plotly'],function(plotly) {window.Plotly=plotly;});}}</script>"
      ],
      "text/vnd.plotly.v1+html": [
       "<script>requirejs.config({paths: { 'plotly': ['https://cdn.plot.ly/plotly-latest.min']},});if(!window.Plotly) {{require(['plotly'],function(plotly) {window.Plotly=plotly;});}}</script>"
      ]
     },
     "metadata": {},
     "output_type": "display_data"
    },
    {
     "data": {
      "application/vnd.plotly.v1+json": {
       "data": [
        {
         "mode": "lines",
         "name": "data",
         "text": [],
         "type": "scatter",
         "uid": "55f72694-8357-11e9-81b8-116be6612965",
         "x": [
          0.1,
          0.2,
          0.3,
          0.4,
          0.5,
          0.6,
          0.7,
          0.8,
          0.9,
          1,
          1.1,
          1.2,
          1.3,
          1.4,
          1.5,
          1.6,
          1.7
         ],
         "y": [
          316230.36669999996,
          267696.56669999997,
          223362.76669999998,
          183228.96669999996,
          147295.16669999994,
          115561.36669999997,
          88027.56669999998,
          64693.76669999998,
          45559.96669999998,
          30626.166699999987,
          19892.36669999999,
          13358.5667,
          11024.766700000004,
          12890.96670000001,
          18957.166700000016,
          29223.36670000002,
          43689.566700000025
         ]
        }
       ],
       "layout": {}
      },
      "text/html": [
       "<div id=\"6de7833a-0de0-4ae8-9f29-277ebfd54c88\" style=\"height: 525px; width: 100%;\" class=\"plotly-graph-div\"></div><script type=\"text/javascript\">require([\"plotly\"], function(Plotly) { window.PLOTLYENV=window.PLOTLYENV || {};window.PLOTLYENV.BASE_URL=\"https://plot.ly\";Plotly.newPlot(\"6de7833a-0de0-4ae8-9f29-277ebfd54c88\", [{\"mode\": \"lines\", \"name\": \"data\", \"text\": [], \"x\": [0.1, 0.2, 0.3, 0.4, 0.5, 0.6, 0.7, 0.8, 0.9, 1.0, 1.1, 1.2, 1.3, 1.4, 1.5, 1.6, 1.7], \"y\": [316230.36669999996, 267696.56669999997, 223362.76669999998, 183228.96669999996, 147295.16669999994, 115561.36669999997, 88027.56669999998, 64693.76669999998, 45559.96669999998, 30626.166699999987, 19892.36669999999, 13358.5667, 11024.766700000004, 12890.96670000001, 18957.166700000016, 29223.36670000002, 43689.566700000025], \"type\": \"scatter\", \"uid\": \"55fa78a8-8357-11e9-81b8-116be6612965\"}], {}, {\"showLink\": true, \"linkText\": \"Export to plot.ly\"})});</script>"
      ],
      "text/vnd.plotly.v1+html": [
       "<div id=\"6de7833a-0de0-4ae8-9f29-277ebfd54c88\" style=\"height: 525px; width: 100%;\" class=\"plotly-graph-div\"></div><script type=\"text/javascript\">require([\"plotly\"], function(Plotly) { window.PLOTLYENV=window.PLOTLYENV || {};window.PLOTLYENV.BASE_URL=\"https://plot.ly\";Plotly.newPlot(\"6de7833a-0de0-4ae8-9f29-277ebfd54c88\", [{\"mode\": \"lines\", \"name\": \"data\", \"text\": [], \"x\": [0.1, 0.2, 0.3, 0.4, 0.5, 0.6, 0.7, 0.8, 0.9, 1.0, 1.1, 1.2, 1.3, 1.4, 1.5, 1.6, 1.7], \"y\": [316230.36669999996, 267696.56669999997, 223362.76669999998, 183228.96669999996, 147295.16669999994, 115561.36669999997, 88027.56669999998, 64693.76669999998, 45559.96669999998, 30626.166699999987, 19892.36669999999, 13358.5667, 11024.766700000004, 12890.96670000001, 18957.166700000016, 29223.36670000002, 43689.566700000025], \"type\": \"scatter\", \"uid\": \"55fa78a8-8357-11e9-81b8-116be6612965\"}], {}, {\"showLink\": true, \"linkText\": \"Export to plot.ly\"})});</script>"
      ]
     },
     "metadata": {},
     "output_type": "display_data"
    }
   ],
   "source": [
    "from plotly.offline import iplot, init_notebook_mode\n",
    "init_notebook_mode(connected=True)\n",
    "from graph import plot, trace_values\n",
    "\n",
    "initial_m_values = list(range(1, 18, 1))\n",
    "scaled_m_values = list(map(lambda initial_m_value: initial_m_value/10,initial_m_values))\n",
    "cost_values = rss_values(budgets, revenues, scaled_m_values, 133.33)\n",
    "\n",
    "if cost_values:\n",
    "    rss_trace = trace_values(cost_values['m_values'], cost_values['rss_values'], mode = 'lines')\n",
    "    plot([rss_trace])"
   ]
  },
  {
   "cell_type": "markdown",
   "metadata": {},
   "source": [
    "### Looking at the slope of our cost curve"
   ]
  },
  {
   "cell_type": "markdown",
   "metadata": {},
   "source": [
    "In this section, we'll work up to building a gradient descent function that automatically changes our step size.  To get you started, we'll provide a function called `slope_at` that calculates the slope of the cost curve at a given point on the cost curve.  Here it is in action:"
   ]
  },
  {
   "cell_type": "code",
   "execution_count": 52,
   "metadata": {},
   "outputs": [],
   "source": [
    "from helper import slope_at"
   ]
  },
  {
   "cell_type": "code",
   "execution_count": 53,
   "metadata": {},
   "outputs": [
    {
     "data": {
      "text/plain": [
       "{'m': 0.6, 'slope': -296312.3333330441}"
      ]
     },
     "execution_count": 53,
     "metadata": {},
     "output_type": "execute_result"
    }
   ],
   "source": [
    "slope_at(budgets, revenues, .6, 133.33333333333326)"
   ]
  },
  {
   "cell_type": "code",
   "execution_count": 54,
   "metadata": {
    "scrolled": true
   },
   "outputs": [
    {
     "data": {
      "text/plain": [
       "{'m': 1.6, 'slope': 123687.66666691954}"
      ]
     },
     "execution_count": 54,
     "metadata": {},
     "output_type": "execute_result"
    }
   ],
   "source": [
    "slope_at(budgets, revenues, 1.6, 133.33333333333326)"
   ]
  },
  {
   "cell_type": "markdown",
   "metadata": {},
   "source": [
    "So the `slope_at` function takes in our dataset, and returns the slope of the cost curve at that point.  So the numbers -296312 and 123877 reflect the slopes at the cost curve when m is .6 and 1.6 respectively."
   ]
  },
  {
   "cell_type": "markdown",
   "metadata": {
    "collapsed": true
   },
   "source": [
    "![](./tangent-lines.png)"
   ]
  },
  {
   "cell_type": "markdown",
   "metadata": {},
   "source": [
    "As you can see, it seems pretty accurate.  When the curve is steeper and downwards at $m = 0.6$, the slope is around -290,000.  And at $m = 1.3$ with our cost curve pointing upwards yet flatter, our slope is around 120,000. "
   ]
  },
  {
   "cell_type": "markdown",
   "metadata": {},
   "source": [
    "### Moving towards gradient descent"
   ]
  },
  {
   "cell_type": "markdown",
   "metadata": {},
   "source": [
    "Now that we are familiar with our `slope_at` function and how it calculates the slope of our cost curve at a given point, we can begin to use that function with our gradient descent procedure.\n",
    "\n",
    "Remember that gradient descent works by starting at a regression line with values m, and b, which corresponds to a point on our cost curve.  Then we alter our m or b value (here, the m value) by looking to the slope of the cost curve at that point.  Then we look to the slope of the cost curve at the new m value to indicate the size and direction of the next step."
   ]
  },
  {
   "cell_type": "markdown",
   "metadata": {},
   "source": [
    "So now let's write a function called `updated_m`.  The function will tell us the step size and direction to move along our cost curve.  The `updated_m` function takes as arguments an initial value of $m$, a learning rate, and the `slope` of the cost curve at that value of $m$.  Its return value is the next value of `m` that it calculates."
   ]
  },
  {
   "cell_type": "code",
   "execution_count": 55,
   "metadata": {},
   "outputs": [],
   "source": [
    "from error import residual_sum_squares\n",
    "\n",
    "def updated_m(m, learning_rate, cost_curve_slope):\n",
    "    m_updated = -learning_rate * cost_curve_slope + m\n",
    "    m= m_updated\n",
    "    return m_updated"
   ]
  },
  {
   "cell_type": "markdown",
   "metadata": {},
   "source": [
    "This is what our function returns."
   ]
  },
  {
   "cell_type": "code",
   "execution_count": 56,
   "metadata": {},
   "outputs": [
    {
     "data": {
      "text/plain": [
       "1.3823523333332086"
      ]
     },
     "execution_count": 56,
     "metadata": {},
     "output_type": "execute_result"
    }
   ],
   "source": [
    "current_slope = slope_at(budgets, revenues, 1.7, 133.33333333333326)['slope']\n",
    "updated_m(1.7, .000001, current_slope)\n",
    "# 1.5343123333335096\n",
    "\n",
    "current_slope = slope_at(budgets, revenues, 1.534, 133.33333333333326)['slope']\n",
    "updated_m(1.534, .000001, current_slope)\n",
    "# 1.43803233333338\n",
    "\n",
    "current_slope = slope_at(budgets, revenues, 1.438, 133.33333333333326)['slope']\n",
    "updated_m(1.438, .000001, current_slope)\n",
    "# 1.3823523333332086"
   ]
  },
  {
   "cell_type": "markdown",
   "metadata": {},
   "source": [
    "Take a careful look at how we use the `updated_m` function.  By using our updated value of $m$ we are quickly converging towards an optimal value of $m$.   \n",
    "\n",
    "Now let's write another function called `gradient_descent`.  The inputs of the function are `x_values`, `y_values`, `steps`, the `b` we are holding constant, the `learning_rate`, and the `current_m` that we are looking at.  The `steps` arguments represents the number of steps the function will take before the function stops.  We can get a sense of the return value in the cell below.  It is a list of dictionaries, with each dictionary having a key of the current `m` value, the `slope` of the cost curve at that m value, and the `rss` at that m value."
   ]
  },
  {
   "cell_type": "code",
   "execution_count": 103,
   "metadata": {},
   "outputs": [],
   "source": [
    "def gradient_descent(x_values, y_values, steps, b, learning_rate, current_m):\n",
    "    step_list = []\n",
    "    \n",
    "            #for i in range(steps):\n",
    "                cost_curve_slope = slope_at(x_values, y_values, current_m, b)['slope']\n",
    "                rss_value = residual_sum_squares(x_values, y_values, current_m, b)\n",
    "                step_list.append({'m': current_m, 'rss': rss_value, 'slope': cost_curve_slope})\n",
    "                current_m = updated_m(current_m, learning_rate, cost_curve_slope)\n",
    "    return step_list"
   ]
  },
  {
   "cell_type": "code",
   "execution_count": 104,
   "metadata": {},
   "outputs": [
    {
     "data": {
      "text/plain": [
       "[{'m': 0, 'rss': 368964.16669999994, 'slope': -548316.9999998063},\n",
       " {'m': 0.5483169999998062,\n",
       "  'rss': 131437.9413767516,\n",
       "  'slope': -318023.86000024853},\n",
       " {'m': 0.8663408600000547,\n",
       "  'rss': 51531.31420747324,\n",
       "  'slope': -184453.83880040026},\n",
       " {'m': 1.050794698800455,\n",
       "  'rss': 24649.097944855268,\n",
       "  'slope': -106983.22650372575},\n",
       " {'m': 1.1577779253041809,\n",
       "  'rss': 15604.976802103287,\n",
       "  'slope': -62050.271372208954},\n",
       " {'m': 1.2198281966763898,\n",
       "  'rss': 12561.987166284125,\n",
       "  'slope': -35989.15739588847},\n",
       " {'m': 1.2558173540722781,\n",
       "  'rss': 11538.008028425651,\n",
       "  'slope': -20873.711289696075},\n",
       " {'m': 1.2766910653619743,\n",
       "  'rss': 11193.357340315255,\n",
       "  'slope': -12106.752547970245},\n",
       " {'m': 1.2887978179099446,\n",
       "  'rss': 11077.310067278091,\n",
       "  'slope': -7021.916477824561}]"
      ]
     },
     "execution_count": 104,
     "metadata": {},
     "output_type": "execute_result"
    }
   ],
   "source": [
    "descent_steps = gradient_descent(budgets, revenues, 12, 133.33, learning_rate = .000001, current_m = 0)\n",
    "descent_steps\n",
    "\n",
    "# [{'m': 0, 'rss': 368964.16669999994, 'slope': -548316.9999998063},\n",
    "#  {'m': 0.5483169999998062, 'rss': 131437.9413767516, 'slope': -318023.86000024853},\n",
    "#  {'m': 0.8663408600000547,  'rss': 51531.31420747324, 'slope': -184453.83880040026}, \n",
    "#  {'m': 1.050794698800455,  'rss': 24649.097944855268,  'slope': -106983.22650372575},\n",
    "#  {'m': 1.1577779253041809,  'rss': 15604.976802103287,  'slope': -62050.271372208954},\n",
    "#  {'m': 1.2198281966763898,  'rss': 12561.987166284125,  'slope': -35989.15739588847},\n",
    "#  {'m': 1.2558173540722781,  'rss': 11538.008028425651, 'slope': -20873.711289696075},\n",
    "#  {'m': 1.2766910653619743,  'rss': 11193.357340315255,  'slope': -12106.752547970245},\n",
    "#  {'m': 1.2887978179099446,  'rss': 11077.310067278091,  'slope': -7021.916477824561},\n",
    "#  {'m': 1.295819734387769,  'rss': 11038.209831325046,  'slope': -4072.711557128059},\n",
    "#  {'m': 1.299892445944897,  'rss': 11025.020590634533,  'slope': -2362.172703124088},\n",
    "#  {'m': 1.302254618648021,  'rss': 11020.562895703,  'slope': -1370.0601677373925}]"
   ]
  },
  {
   "cell_type": "code",
   "execution_count": 101,
   "metadata": {},
   "outputs": [
    {
     "data": {
      "application/vnd.plotly.v1+json": {
       "data": [
        {
         "mode": "markers",
         "name": "data",
         "text": [
          "cost curve slope: -548316.9999998063",
          "cost curve slope: -318023.86000024853",
          "cost curve slope: -184453.83880040026",
          "cost curve slope: -106983.22650372575",
          "cost curve slope: -62050.271372208954",
          "cost curve slope: -35989.15739588847",
          "cost curve slope: -20873.711289696075",
          "cost curve slope: -12106.752547970245",
          "cost curve slope: -7021.916477824561",
          "cost curve slope: -4072.711557128059",
          "cost curve slope: -2362.172703124088",
          "cost curve slope: -1370.0601677373925",
          "cost curve slope: -794.6348973928252",
          "cost curve slope: -460.88824046819354",
          "cost curve slope: -267.3151794806472",
          "cost curve slope: -155.04280399909476",
          "cost curve slope: -89.92482642497635",
          "cost curve slope: -52.1563993061136",
          "cost curve slope: -30.25071162483073",
          "cost curve slope: -17.545412647450576",
          "cost curve slope: -10.17633931041928",
          "cost curve slope: -5.902276916458504",
          "cost curve slope: -3.4233205042255577",
          "cost curve slope: -1.9855258869938552",
          "cost curve slope: -1.1516050290083513",
          "cost curve slope: -0.6679309990431648",
          "cost curve slope: -0.38739990486647",
          "cost curve slope: -0.22469190298579633",
          "cost curve slope: -0.13032142305746675",
          "cost curve slope: -0.07558634024462663",
          "cost curve slope: -0.043840136640938",
          "cost curve slope: -0.025427343643968925",
          "cost curve slope: -0.014747729437658563",
          "cost curve slope: -0.008553670340916142",
          "cost curve slope: -0.004961239028489217",
          "cost curve slope: -0.0028775139071512967",
          "cost curve slope: -0.0016689591575413942",
          "cost curve slope: -0.000967993400990963",
          "cost curve slope: -0.0005615402187686414",
          "cost curve slope: -0.0003255991032347083",
          "cost curve slope: -0.00018886566977016628",
          "cost curve slope: -0.00010950316209346056",
          "cost curve slope: -6.342816050164402e-05",
          "cost curve slope: -3.677996573969722e-05",
          "cost curve slope: -2.1445885067805648e-05",
          "cost curve slope: -1.2332748156040907e-05",
          "cost curve slope: -7.257767720147967e-06",
          "cost curve slope: -4.2018655221909285e-06",
          "cost curve slope: -2.4556356947869062e-06",
          "cost curve slope: -1.4006218407303095e-06",
          "cost curve slope: -8.36735125631094e-07",
          "cost curve slope: -4.729372449219227e-07",
          "cost curve slope: -2.7284841053187847e-07",
          "cost curve slope: -1.2732925824820995e-07",
          "cost curve slope: -9.094947017729282e-08",
          "cost curve slope: -5.4569682106375694e-08",
          "cost curve slope: -5.4569682106375694e-08",
          "cost curve slope: 0.0",
          "cost curve slope: 0.0",
          "cost curve slope: 0.0",
          "cost curve slope: 0.0",
          "cost curve slope: 0.0",
          "cost curve slope: 0.0",
          "cost curve slope: 0.0",
          "cost curve slope: 0.0",
          "cost curve slope: 0.0",
          "cost curve slope: 0.0",
          "cost curve slope: 0.0",
          "cost curve slope: 0.0",
          "cost curve slope: 0.0",
          "cost curve slope: 0.0",
          "cost curve slope: 0.0",
          "cost curve slope: 0.0",
          "cost curve slope: 0.0",
          "cost curve slope: 0.0",
          "cost curve slope: 0.0",
          "cost curve slope: 0.0",
          "cost curve slope: 0.0",
          "cost curve slope: 0.0",
          "cost curve slope: 0.0",
          "cost curve slope: 0.0",
          "cost curve slope: 0.0",
          "cost curve slope: 0.0",
          "cost curve slope: 0.0",
          "cost curve slope: 0.0",
          "cost curve slope: 0.0",
          "cost curve slope: 0.0",
          "cost curve slope: 0.0",
          "cost curve slope: 0.0",
          "cost curve slope: 0.0",
          "cost curve slope: 0.0",
          "cost curve slope: 0.0",
          "cost curve slope: 0.0",
          "cost curve slope: 0.0",
          "cost curve slope: 0.0",
          "cost curve slope: 0.0",
          "cost curve slope: 0.0",
          "cost curve slope: 0.0",
          "cost curve slope: 0.0",
          "cost curve slope: 0.0",
          "cost curve slope: 0.0",
          "cost curve slope: 0.0",
          "cost curve slope: 0.0",
          "cost curve slope: 0.0",
          "cost curve slope: 0.0",
          "cost curve slope: 0.0",
          "cost curve slope: 0.0",
          "cost curve slope: 0.0"
         ],
         "type": "scatter",
         "uid": "eb768664-835d-11e9-81b8-116be6612965",
         "x": [
          0,
          0.5483169999998062,
          0.8663408600000547,
          1.050794698800455,
          1.1577779253041809,
          1.2198281966763898,
          1.2558173540722781,
          1.2766910653619743,
          1.2887978179099446,
          1.295819734387769,
          1.299892445944897,
          1.302254618648021,
          1.3036246788157584,
          1.3044193137131512,
          1.3048802019536194,
          1.3051475171331002,
          1.3053025599370993,
          1.3053924847635243,
          1.3054446411628304,
          1.3054748918744552,
          1.3054924372871026,
          1.305502613626413,
          1.3055085159033295,
          1.3055119392238337,
          1.3055139247497207,
          1.3055150763547498,
          1.3055157442857488,
          1.3055161316856536,
          1.3055163563775567,
          1.3055164866989797,
          1.30551656228532,
          1.3055166061254566,
          1.3055166315528002,
          1.3055166463005297,
          1.3055166548542,
          1.305516659815439,
          1.305516662692953,
          1.3055166643619123,
          1.3055166653299057,
          1.3055166658914459,
          1.305516666217045,
          1.3055166664059106,
          1.3055166665154136,
          1.3055166665788418,
          1.3055166666156217,
          1.3055166666370677,
          1.3055166666494005,
          1.3055166666566582,
          1.3055166666608602,
          1.3055166666633158,
          1.3055166666647164,
          1.305516666665553,
          1.305516666666026,
          1.305516666666299,
          1.3055166666664262,
          1.3055166666665172,
          1.3055166666665718,
          1.3055166666666265,
          1.3055166666666265,
          1.3055166666666265,
          1.3055166666666265,
          1.3055166666666265,
          1.3055166666666265,
          1.3055166666666265,
          1.3055166666666265,
          1.3055166666666265,
          1.3055166666666265,
          1.3055166666666265,
          1.3055166666666265,
          1.3055166666666265,
          1.3055166666666265,
          1.3055166666666265,
          1.3055166666666265,
          1.3055166666666265,
          1.3055166666666265,
          1.3055166666666265,
          1.3055166666666265,
          1.3055166666666265,
          1.3055166666666265,
          1.3055166666666265,
          1.3055166666666265,
          1.3055166666666265,
          1.3055166666666265,
          1.3055166666666265,
          1.3055166666666265,
          1.3055166666666265,
          1.3055166666666265,
          1.3055166666666265,
          1.3055166666666265,
          1.3055166666666265,
          1.3055166666666265,
          1.3055166666666265,
          1.3055166666666265,
          1.3055166666666265,
          1.3055166666666265,
          1.3055166666666265,
          1.3055166666666265,
          1.3055166666666265,
          1.3055166666666265,
          1.3055166666666265,
          1.3055166666666265,
          1.3055166666666265,
          1.3055166666666265,
          1.3055166666666265,
          1.3055166666666265,
          1.3055166666666265,
          1.3055166666666265,
          1.3055166666666265
         ],
         "y": [
          368964.16669999994,
          131437.9413767516,
          51531.31420747324,
          24649.097944855268,
          15604.976802103287,
          12561.987166284125,
          11538.008028425651,
          11193.357340315255,
          11077.310067278091,
          11038.209831325046,
          11025.020590634533,
          11020.562895703,
          11019.051243197406,
          11018.535714614647,
          11018.358225765134,
          11018.296160796273,
          11018.273914663236,
          11018.2656379271,
          11018.262393613624,
          11018.261035415284,
          11018.260423766826,
          11018.260128252972,
          11018.25997678403,
          11018.259895636189,
          11018.259850825718,
          11018.259825594329,
          11018.259811215325,
          11018.259802961362,
          11018.25979820296,
          11018.259795452783,
          11018.259793860965,
          11018.259792938807,
          11018.259792404311,
          11018.259792094435,
          11018.259791914761,
          11018.259791810555,
          11018.25979175012,
          11018.25979171507,
          11018.259791694742,
          11018.25979168295,
          11018.259791676113,
          11018.259791672144,
          11018.259791669836,
          11018.259791668504,
          11018.259791667731,
          11018.259791667282,
          11018.259791667033,
          11018.25979166688,
          11018.259791666793,
          11018.25979166674,
          11018.259791666711,
          11018.259791666693,
          11018.259791666684,
          11018.259791666676,
          11018.259791666675,
          11018.259791666673,
          11018.259791666673,
          11018.259791666671,
          11018.259791666671,
          11018.259791666671,
          11018.259791666671,
          11018.259791666671,
          11018.259791666671,
          11018.259791666671,
          11018.259791666671,
          11018.259791666671,
          11018.259791666671,
          11018.259791666671,
          11018.259791666671,
          11018.259791666671,
          11018.259791666671,
          11018.259791666671,
          11018.259791666671,
          11018.259791666671,
          11018.259791666671,
          11018.259791666671,
          11018.259791666671,
          11018.259791666671,
          11018.259791666671,
          11018.259791666671,
          11018.259791666671,
          11018.259791666671,
          11018.259791666671,
          11018.259791666671,
          11018.259791666671,
          11018.259791666671,
          11018.259791666671,
          11018.259791666671,
          11018.259791666671,
          11018.259791666671,
          11018.259791666671,
          11018.259791666671,
          11018.259791666671,
          11018.259791666671,
          11018.259791666671,
          11018.259791666671,
          11018.259791666671,
          11018.259791666671,
          11018.259791666671,
          11018.259791666671,
          11018.259791666671,
          11018.259791666671,
          11018.259791666671,
          11018.259791666671,
          11018.259791666671,
          11018.259791666671,
          11018.259791666671,
          11018.259791666671
         ]
        }
       ],
       "layout": {}
      },
      "text/html": [
       "<div id=\"a959b64d-9ed4-40c4-9212-2e4ba9b520f6\" style=\"height: 525px; width: 100%;\" class=\"plotly-graph-div\"></div><script type=\"text/javascript\">require([\"plotly\"], function(Plotly) { window.PLOTLYENV=window.PLOTLYENV || {};window.PLOTLYENV.BASE_URL=\"https://plot.ly\";Plotly.newPlot(\"a959b64d-9ed4-40c4-9212-2e4ba9b520f6\", [{\"mode\": \"markers\", \"name\": \"data\", \"text\": [\"cost curve slope: -548316.9999998063\", \"cost curve slope: -318023.86000024853\", \"cost curve slope: -184453.83880040026\", \"cost curve slope: -106983.22650372575\", \"cost curve slope: -62050.271372208954\", \"cost curve slope: -35989.15739588847\", \"cost curve slope: -20873.711289696075\", \"cost curve slope: -12106.752547970245\", \"cost curve slope: -7021.916477824561\", \"cost curve slope: -4072.711557128059\", \"cost curve slope: -2362.172703124088\", \"cost curve slope: -1370.0601677373925\", \"cost curve slope: -794.6348973928252\", \"cost curve slope: -460.88824046819354\", \"cost curve slope: -267.3151794806472\", \"cost curve slope: -155.04280399909476\", \"cost curve slope: -89.92482642497635\", \"cost curve slope: -52.1563993061136\", \"cost curve slope: -30.25071162483073\", \"cost curve slope: -17.545412647450576\", \"cost curve slope: -10.17633931041928\", \"cost curve slope: -5.902276916458504\", \"cost curve slope: -3.4233205042255577\", \"cost curve slope: -1.9855258869938552\", \"cost curve slope: -1.1516050290083513\", \"cost curve slope: -0.6679309990431648\", \"cost curve slope: -0.38739990486647\", \"cost curve slope: -0.22469190298579633\", \"cost curve slope: -0.13032142305746675\", \"cost curve slope: -0.07558634024462663\", \"cost curve slope: -0.043840136640938\", \"cost curve slope: -0.025427343643968925\", \"cost curve slope: -0.014747729437658563\", \"cost curve slope: -0.008553670340916142\", \"cost curve slope: -0.004961239028489217\", \"cost curve slope: -0.0028775139071512967\", \"cost curve slope: -0.0016689591575413942\", \"cost curve slope: -0.000967993400990963\", \"cost curve slope: -0.0005615402187686414\", \"cost curve slope: -0.0003255991032347083\", \"cost curve slope: -0.00018886566977016628\", \"cost curve slope: -0.00010950316209346056\", \"cost curve slope: -6.342816050164402e-05\", \"cost curve slope: -3.677996573969722e-05\", \"cost curve slope: -2.1445885067805648e-05\", \"cost curve slope: -1.2332748156040907e-05\", \"cost curve slope: -7.257767720147967e-06\", \"cost curve slope: -4.2018655221909285e-06\", \"cost curve slope: -2.4556356947869062e-06\", \"cost curve slope: -1.4006218407303095e-06\", \"cost curve slope: -8.36735125631094e-07\", \"cost curve slope: -4.729372449219227e-07\", \"cost curve slope: -2.7284841053187847e-07\", \"cost curve slope: -1.2732925824820995e-07\", \"cost curve slope: -9.094947017729282e-08\", \"cost curve slope: -5.4569682106375694e-08\", \"cost curve slope: -5.4569682106375694e-08\", \"cost curve slope: 0.0\", \"cost curve slope: 0.0\", \"cost curve slope: 0.0\", \"cost curve slope: 0.0\", \"cost curve slope: 0.0\", \"cost curve slope: 0.0\", \"cost curve slope: 0.0\", \"cost curve slope: 0.0\", \"cost curve slope: 0.0\", \"cost curve slope: 0.0\", \"cost curve slope: 0.0\", \"cost curve slope: 0.0\", \"cost curve slope: 0.0\", \"cost curve slope: 0.0\", \"cost curve slope: 0.0\", \"cost curve slope: 0.0\", \"cost curve slope: 0.0\", \"cost curve slope: 0.0\", \"cost curve slope: 0.0\", \"cost curve slope: 0.0\", \"cost curve slope: 0.0\", \"cost curve slope: 0.0\", \"cost curve slope: 0.0\", \"cost curve slope: 0.0\", \"cost curve slope: 0.0\", \"cost curve slope: 0.0\", \"cost curve slope: 0.0\", \"cost curve slope: 0.0\", \"cost curve slope: 0.0\", \"cost curve slope: 0.0\", \"cost curve slope: 0.0\", \"cost curve slope: 0.0\", \"cost curve slope: 0.0\", \"cost curve slope: 0.0\", \"cost curve slope: 0.0\", \"cost curve slope: 0.0\", \"cost curve slope: 0.0\", \"cost curve slope: 0.0\", \"cost curve slope: 0.0\", \"cost curve slope: 0.0\", \"cost curve slope: 0.0\", \"cost curve slope: 0.0\", \"cost curve slope: 0.0\", \"cost curve slope: 0.0\", \"cost curve slope: 0.0\", \"cost curve slope: 0.0\", \"cost curve slope: 0.0\", \"cost curve slope: 0.0\", \"cost curve slope: 0.0\", \"cost curve slope: 0.0\", \"cost curve slope: 0.0\"], \"x\": [0, 0.5483169999998062, 0.8663408600000547, 1.050794698800455, 1.1577779253041809, 1.2198281966763898, 1.2558173540722781, 1.2766910653619743, 1.2887978179099446, 1.295819734387769, 1.299892445944897, 1.302254618648021, 1.3036246788157584, 1.3044193137131512, 1.3048802019536194, 1.3051475171331002, 1.3053025599370993, 1.3053924847635243, 1.3054446411628304, 1.3054748918744552, 1.3054924372871026, 1.305502613626413, 1.3055085159033295, 1.3055119392238337, 1.3055139247497207, 1.3055150763547498, 1.3055157442857488, 1.3055161316856536, 1.3055163563775567, 1.3055164866989797, 1.30551656228532, 1.3055166061254566, 1.3055166315528002, 1.3055166463005297, 1.3055166548542, 1.305516659815439, 1.305516662692953, 1.3055166643619123, 1.3055166653299057, 1.3055166658914459, 1.305516666217045, 1.3055166664059106, 1.3055166665154136, 1.3055166665788418, 1.3055166666156217, 1.3055166666370677, 1.3055166666494005, 1.3055166666566582, 1.3055166666608602, 1.3055166666633158, 1.3055166666647164, 1.305516666665553, 1.305516666666026, 1.305516666666299, 1.3055166666664262, 1.3055166666665172, 1.3055166666665718, 1.3055166666666265, 1.3055166666666265, 1.3055166666666265, 1.3055166666666265, 1.3055166666666265, 1.3055166666666265, 1.3055166666666265, 1.3055166666666265, 1.3055166666666265, 1.3055166666666265, 1.3055166666666265, 1.3055166666666265, 1.3055166666666265, 1.3055166666666265, 1.3055166666666265, 1.3055166666666265, 1.3055166666666265, 1.3055166666666265, 1.3055166666666265, 1.3055166666666265, 1.3055166666666265, 1.3055166666666265, 1.3055166666666265, 1.3055166666666265, 1.3055166666666265, 1.3055166666666265, 1.3055166666666265, 1.3055166666666265, 1.3055166666666265, 1.3055166666666265, 1.3055166666666265, 1.3055166666666265, 1.3055166666666265, 1.3055166666666265, 1.3055166666666265, 1.3055166666666265, 1.3055166666666265, 1.3055166666666265, 1.3055166666666265, 1.3055166666666265, 1.3055166666666265, 1.3055166666666265, 1.3055166666666265, 1.3055166666666265, 1.3055166666666265, 1.3055166666666265, 1.3055166666666265, 1.3055166666666265, 1.3055166666666265, 1.3055166666666265, 1.3055166666666265], \"y\": [368964.16669999994, 131437.9413767516, 51531.31420747324, 24649.097944855268, 15604.976802103287, 12561.987166284125, 11538.008028425651, 11193.357340315255, 11077.310067278091, 11038.209831325046, 11025.020590634533, 11020.562895703, 11019.051243197406, 11018.535714614647, 11018.358225765134, 11018.296160796273, 11018.273914663236, 11018.2656379271, 11018.262393613624, 11018.261035415284, 11018.260423766826, 11018.260128252972, 11018.25997678403, 11018.259895636189, 11018.259850825718, 11018.259825594329, 11018.259811215325, 11018.259802961362, 11018.25979820296, 11018.259795452783, 11018.259793860965, 11018.259792938807, 11018.259792404311, 11018.259792094435, 11018.259791914761, 11018.259791810555, 11018.25979175012, 11018.25979171507, 11018.259791694742, 11018.25979168295, 11018.259791676113, 11018.259791672144, 11018.259791669836, 11018.259791668504, 11018.259791667731, 11018.259791667282, 11018.259791667033, 11018.25979166688, 11018.259791666793, 11018.25979166674, 11018.259791666711, 11018.259791666693, 11018.259791666684, 11018.259791666676, 11018.259791666675, 11018.259791666673, 11018.259791666673, 11018.259791666671, 11018.259791666671, 11018.259791666671, 11018.259791666671, 11018.259791666671, 11018.259791666671, 11018.259791666671, 11018.259791666671, 11018.259791666671, 11018.259791666671, 11018.259791666671, 11018.259791666671, 11018.259791666671, 11018.259791666671, 11018.259791666671, 11018.259791666671, 11018.259791666671, 11018.259791666671, 11018.259791666671, 11018.259791666671, 11018.259791666671, 11018.259791666671, 11018.259791666671, 11018.259791666671, 11018.259791666671, 11018.259791666671, 11018.259791666671, 11018.259791666671, 11018.259791666671, 11018.259791666671, 11018.259791666671, 11018.259791666671, 11018.259791666671, 11018.259791666671, 11018.259791666671, 11018.259791666671, 11018.259791666671, 11018.259791666671, 11018.259791666671, 11018.259791666671, 11018.259791666671, 11018.259791666671, 11018.259791666671, 11018.259791666671, 11018.259791666671, 11018.259791666671, 11018.259791666671, 11018.259791666671, 11018.259791666671, 11018.259791666671, 11018.259791666671], \"type\": \"scatter\", \"uid\": \"eb7a532a-835d-11e9-81b8-116be6612965\"}], {}, {\"showLink\": true, \"linkText\": \"Export to plot.ly\"})});</script>"
      ],
      "text/vnd.plotly.v1+html": [
       "<div id=\"a959b64d-9ed4-40c4-9212-2e4ba9b520f6\" style=\"height: 525px; width: 100%;\" class=\"plotly-graph-div\"></div><script type=\"text/javascript\">require([\"plotly\"], function(Plotly) { window.PLOTLYENV=window.PLOTLYENV || {};window.PLOTLYENV.BASE_URL=\"https://plot.ly\";Plotly.newPlot(\"a959b64d-9ed4-40c4-9212-2e4ba9b520f6\", [{\"mode\": \"markers\", \"name\": \"data\", \"text\": [\"cost curve slope: -548316.9999998063\", \"cost curve slope: -318023.86000024853\", \"cost curve slope: -184453.83880040026\", \"cost curve slope: -106983.22650372575\", \"cost curve slope: -62050.271372208954\", \"cost curve slope: -35989.15739588847\", \"cost curve slope: -20873.711289696075\", \"cost curve slope: -12106.752547970245\", \"cost curve slope: -7021.916477824561\", \"cost curve slope: -4072.711557128059\", \"cost curve slope: -2362.172703124088\", \"cost curve slope: -1370.0601677373925\", \"cost curve slope: -794.6348973928252\", \"cost curve slope: -460.88824046819354\", \"cost curve slope: -267.3151794806472\", \"cost curve slope: -155.04280399909476\", \"cost curve slope: -89.92482642497635\", \"cost curve slope: -52.1563993061136\", \"cost curve slope: -30.25071162483073\", \"cost curve slope: -17.545412647450576\", \"cost curve slope: -10.17633931041928\", \"cost curve slope: -5.902276916458504\", \"cost curve slope: -3.4233205042255577\", \"cost curve slope: -1.9855258869938552\", \"cost curve slope: -1.1516050290083513\", \"cost curve slope: -0.6679309990431648\", \"cost curve slope: -0.38739990486647\", \"cost curve slope: -0.22469190298579633\", \"cost curve slope: -0.13032142305746675\", \"cost curve slope: -0.07558634024462663\", \"cost curve slope: -0.043840136640938\", \"cost curve slope: -0.025427343643968925\", \"cost curve slope: -0.014747729437658563\", \"cost curve slope: -0.008553670340916142\", \"cost curve slope: -0.004961239028489217\", \"cost curve slope: -0.0028775139071512967\", \"cost curve slope: -0.0016689591575413942\", \"cost curve slope: -0.000967993400990963\", \"cost curve slope: -0.0005615402187686414\", \"cost curve slope: -0.0003255991032347083\", \"cost curve slope: -0.00018886566977016628\", \"cost curve slope: -0.00010950316209346056\", \"cost curve slope: -6.342816050164402e-05\", \"cost curve slope: -3.677996573969722e-05\", \"cost curve slope: -2.1445885067805648e-05\", \"cost curve slope: -1.2332748156040907e-05\", \"cost curve slope: -7.257767720147967e-06\", \"cost curve slope: -4.2018655221909285e-06\", \"cost curve slope: -2.4556356947869062e-06\", \"cost curve slope: -1.4006218407303095e-06\", \"cost curve slope: -8.36735125631094e-07\", \"cost curve slope: -4.729372449219227e-07\", \"cost curve slope: -2.7284841053187847e-07\", \"cost curve slope: -1.2732925824820995e-07\", \"cost curve slope: -9.094947017729282e-08\", \"cost curve slope: -5.4569682106375694e-08\", \"cost curve slope: -5.4569682106375694e-08\", \"cost curve slope: 0.0\", \"cost curve slope: 0.0\", \"cost curve slope: 0.0\", \"cost curve slope: 0.0\", \"cost curve slope: 0.0\", \"cost curve slope: 0.0\", \"cost curve slope: 0.0\", \"cost curve slope: 0.0\", \"cost curve slope: 0.0\", \"cost curve slope: 0.0\", \"cost curve slope: 0.0\", \"cost curve slope: 0.0\", \"cost curve slope: 0.0\", \"cost curve slope: 0.0\", \"cost curve slope: 0.0\", \"cost curve slope: 0.0\", \"cost curve slope: 0.0\", \"cost curve slope: 0.0\", \"cost curve slope: 0.0\", \"cost curve slope: 0.0\", \"cost curve slope: 0.0\", \"cost curve slope: 0.0\", \"cost curve slope: 0.0\", \"cost curve slope: 0.0\", \"cost curve slope: 0.0\", \"cost curve slope: 0.0\", \"cost curve slope: 0.0\", \"cost curve slope: 0.0\", \"cost curve slope: 0.0\", \"cost curve slope: 0.0\", \"cost curve slope: 0.0\", \"cost curve slope: 0.0\", \"cost curve slope: 0.0\", \"cost curve slope: 0.0\", \"cost curve slope: 0.0\", \"cost curve slope: 0.0\", \"cost curve slope: 0.0\", \"cost curve slope: 0.0\", \"cost curve slope: 0.0\", \"cost curve slope: 0.0\", \"cost curve slope: 0.0\", \"cost curve slope: 0.0\", \"cost curve slope: 0.0\", \"cost curve slope: 0.0\", \"cost curve slope: 0.0\", \"cost curve slope: 0.0\", \"cost curve slope: 0.0\", \"cost curve slope: 0.0\", \"cost curve slope: 0.0\", \"cost curve slope: 0.0\", \"cost curve slope: 0.0\"], \"x\": [0, 0.5483169999998062, 0.8663408600000547, 1.050794698800455, 1.1577779253041809, 1.2198281966763898, 1.2558173540722781, 1.2766910653619743, 1.2887978179099446, 1.295819734387769, 1.299892445944897, 1.302254618648021, 1.3036246788157584, 1.3044193137131512, 1.3048802019536194, 1.3051475171331002, 1.3053025599370993, 1.3053924847635243, 1.3054446411628304, 1.3054748918744552, 1.3054924372871026, 1.305502613626413, 1.3055085159033295, 1.3055119392238337, 1.3055139247497207, 1.3055150763547498, 1.3055157442857488, 1.3055161316856536, 1.3055163563775567, 1.3055164866989797, 1.30551656228532, 1.3055166061254566, 1.3055166315528002, 1.3055166463005297, 1.3055166548542, 1.305516659815439, 1.305516662692953, 1.3055166643619123, 1.3055166653299057, 1.3055166658914459, 1.305516666217045, 1.3055166664059106, 1.3055166665154136, 1.3055166665788418, 1.3055166666156217, 1.3055166666370677, 1.3055166666494005, 1.3055166666566582, 1.3055166666608602, 1.3055166666633158, 1.3055166666647164, 1.305516666665553, 1.305516666666026, 1.305516666666299, 1.3055166666664262, 1.3055166666665172, 1.3055166666665718, 1.3055166666666265, 1.3055166666666265, 1.3055166666666265, 1.3055166666666265, 1.3055166666666265, 1.3055166666666265, 1.3055166666666265, 1.3055166666666265, 1.3055166666666265, 1.3055166666666265, 1.3055166666666265, 1.3055166666666265, 1.3055166666666265, 1.3055166666666265, 1.3055166666666265, 1.3055166666666265, 1.3055166666666265, 1.3055166666666265, 1.3055166666666265, 1.3055166666666265, 1.3055166666666265, 1.3055166666666265, 1.3055166666666265, 1.3055166666666265, 1.3055166666666265, 1.3055166666666265, 1.3055166666666265, 1.3055166666666265, 1.3055166666666265, 1.3055166666666265, 1.3055166666666265, 1.3055166666666265, 1.3055166666666265, 1.3055166666666265, 1.3055166666666265, 1.3055166666666265, 1.3055166666666265, 1.3055166666666265, 1.3055166666666265, 1.3055166666666265, 1.3055166666666265, 1.3055166666666265, 1.3055166666666265, 1.3055166666666265, 1.3055166666666265, 1.3055166666666265, 1.3055166666666265, 1.3055166666666265, 1.3055166666666265, 1.3055166666666265, 1.3055166666666265], \"y\": [368964.16669999994, 131437.9413767516, 51531.31420747324, 24649.097944855268, 15604.976802103287, 12561.987166284125, 11538.008028425651, 11193.357340315255, 11077.310067278091, 11038.209831325046, 11025.020590634533, 11020.562895703, 11019.051243197406, 11018.535714614647, 11018.358225765134, 11018.296160796273, 11018.273914663236, 11018.2656379271, 11018.262393613624, 11018.261035415284, 11018.260423766826, 11018.260128252972, 11018.25997678403, 11018.259895636189, 11018.259850825718, 11018.259825594329, 11018.259811215325, 11018.259802961362, 11018.25979820296, 11018.259795452783, 11018.259793860965, 11018.259792938807, 11018.259792404311, 11018.259792094435, 11018.259791914761, 11018.259791810555, 11018.25979175012, 11018.25979171507, 11018.259791694742, 11018.25979168295, 11018.259791676113, 11018.259791672144, 11018.259791669836, 11018.259791668504, 11018.259791667731, 11018.259791667282, 11018.259791667033, 11018.25979166688, 11018.259791666793, 11018.25979166674, 11018.259791666711, 11018.259791666693, 11018.259791666684, 11018.259791666676, 11018.259791666675, 11018.259791666673, 11018.259791666673, 11018.259791666671, 11018.259791666671, 11018.259791666671, 11018.259791666671, 11018.259791666671, 11018.259791666671, 11018.259791666671, 11018.259791666671, 11018.259791666671, 11018.259791666671, 11018.259791666671, 11018.259791666671, 11018.259791666671, 11018.259791666671, 11018.259791666671, 11018.259791666671, 11018.259791666671, 11018.259791666671, 11018.259791666671, 11018.259791666671, 11018.259791666671, 11018.259791666671, 11018.259791666671, 11018.259791666671, 11018.259791666671, 11018.259791666671, 11018.259791666671, 11018.259791666671, 11018.259791666671, 11018.259791666671, 11018.259791666671, 11018.259791666671, 11018.259791666671, 11018.259791666671, 11018.259791666671, 11018.259791666671, 11018.259791666671, 11018.259791666671, 11018.259791666671, 11018.259791666671, 11018.259791666671, 11018.259791666671, 11018.259791666671, 11018.259791666671, 11018.259791666671, 11018.259791666671, 11018.259791666671, 11018.259791666671, 11018.259791666671, 11018.259791666671, 11018.259791666671], \"type\": \"scatter\", \"uid\": \"eb7a532a-835d-11e9-81b8-116be6612965\"}], {}, {\"showLink\": true, \"linkText\": \"Export to plot.ly\"})});</script>"
      ]
     },
     "metadata": {},
     "output_type": "display_data"
    }
   ],
   "source": [
    "if descent_steps:\n",
    "    m_values = list(map(lambda step: step['m'],descent_steps))\n",
    "    rss_result_values = list(map(lambda step: step['rss'], descent_steps))\n",
    "    text_values = list(map(lambda step: 'cost curve slope: ' + str(step['slope']), descent_steps))\n",
    "    gradient_trace = trace_values(m_values, rss_result_values, text=text_values)\n",
    "    plot([gradient_trace])"
   ]
  },
  {
   "cell_type": "markdown",
   "metadata": {},
   "source": [
    "Taking a look at a plot of our trace, you can get a nice visualization of how our gradient descent function works.  It starts far away with $m = 0$, and the step size is relatively large, as is the slope of the cost curve.  As the $m$ value updates such that it approaches a minimum of the RSS, the slope of the cost curve and the size of each step both decrease.     "
   ]
  },
  {
   "cell_type": "markdown",
   "metadata": {},
   "source": [
    "Remember that each of these steps indicates a change in our regression line's slope value towards a \"fit\" that more accurately matches our dataset.  Let's plot these various regression lines below, starting with our slope at 0 and moving from there.  "
   ]
  },
  {
   "cell_type": "code",
   "execution_count": 102,
   "metadata": {},
   "outputs": [
    {
     "data": {
      "text/html": [
       "<script>requirejs.config({paths: { 'plotly': ['https://cdn.plot.ly/plotly-latest.min']},});if(!window.Plotly) {{require(['plotly'],function(plotly) {window.Plotly=plotly;});}}</script>"
      ],
      "text/vnd.plotly.v1+html": [
       "<script>requirejs.config({paths: { 'plotly': ['https://cdn.plot.ly/plotly-latest.min']},});if(!window.Plotly) {{require(['plotly'],function(plotly) {window.Plotly=plotly;});}}</script>"
      ]
     },
     "metadata": {},
     "output_type": "display_data"
    },
    {
     "data": {
      "application/vnd.plotly.v1+json": {
       "data": [
        {
         "mode": "markers",
         "name": "data",
         "text": [],
         "type": "scatter",
         "uid": "edd23cdc-835d-11e9-81b8-116be6612965",
         "x": [
          100,
          200,
          400
         ],
         "y": [
          275,
          300,
          700
         ]
        },
        {
         "mode": "lines",
         "name": "m:0",
         "type": "scatter",
         "uid": "edd23e62-835d-11e9-81b8-116be6612965",
         "x": [
          100,
          200,
          400
         ],
         "y": [
          133.33,
          133.33,
          133.33
         ]
        },
        {
         "mode": "lines",
         "name": "m:0.55",
         "type": "scatter",
         "uid": "edd23f2a-835d-11e9-81b8-116be6612965",
         "x": [
          100,
          200,
          400
         ],
         "y": [
          188.16169999998064,
          242.99339999996124,
          352.6567999999225
         ]
        },
        {
         "mode": "lines",
         "name": "m:0.87",
         "type": "scatter",
         "uid": "edd23fde-835d-11e9-81b8-116be6612965",
         "x": [
          100,
          200,
          400
         ],
         "y": [
          219.96408600000547,
          306.59817200001095,
          479.86634400002185
         ]
        },
        {
         "mode": "lines",
         "name": "m:1.05",
         "type": "scatter",
         "uid": "edd2407e-835d-11e9-81b8-116be6612965",
         "x": [
          100,
          200,
          400
         ],
         "y": [
          238.40946988004552,
          343.48893976009106,
          553.6478795201821
         ]
        },
        {
         "mode": "lines",
         "name": "m:1.16",
         "type": "scatter",
         "uid": "edd2411e-835d-11e9-81b8-116be6612965",
         "x": [
          100,
          200,
          400
         ],
         "y": [
          249.1077925304181,
          364.8855850608362,
          596.4411701216724
         ]
        },
        {
         "mode": "lines",
         "name": "m:1.22",
         "type": "scatter",
         "uid": "edd241d2-835d-11e9-81b8-116be6612965",
         "x": [
          100,
          200,
          400
         ],
         "y": [
          255.312819667639,
          377.295639335278,
          621.261278670556
         ]
        },
        {
         "mode": "lines",
         "name": "m:1.26",
         "type": "scatter",
         "uid": "edd2427c-835d-11e9-81b8-116be6612965",
         "x": [
          100,
          200,
          400
         ],
         "y": [
          258.9117354072278,
          384.49347081445563,
          635.6569416289112
         ]
        },
        {
         "mode": "lines",
         "name": "m:1.28",
         "type": "scatter",
         "uid": "edd2431c-835d-11e9-81b8-116be6612965",
         "x": [
          100,
          200,
          400
         ],
         "y": [
          260.9991065361975,
          388.6682130723949,
          644.0064261447898
         ]
        },
        {
         "mode": "lines",
         "name": "m:1.29",
         "type": "scatter",
         "uid": "edd243bc-835d-11e9-81b8-116be6612965",
         "x": [
          100,
          200,
          400
         ],
         "y": [
          262.2097817909945,
          391.08956358198895,
          648.8491271639779
         ]
        },
        {
         "mode": "lines",
         "name": "m:1.3",
         "type": "scatter",
         "uid": "edd2445c-835d-11e9-81b8-116be6612965",
         "x": [
          100,
          200,
          400
         ],
         "y": [
          262.91197343877695,
          392.49394687755387,
          651.6578937551077
         ]
        },
        {
         "mode": "lines",
         "name": "m:1.3",
         "type": "scatter",
         "uid": "edd244fc-835d-11e9-81b8-116be6612965",
         "x": [
          100,
          200,
          400
         ],
         "y": [
          263.31924459448976,
          393.3084891889795,
          653.2869783779589
         ]
        },
        {
         "mode": "lines",
         "name": "m:1.3",
         "type": "scatter",
         "uid": "edd2459c-835d-11e9-81b8-116be6612965",
         "x": [
          100,
          200,
          400
         ],
         "y": [
          263.5554618648021,
          393.7809237296042,
          654.2318474592084
         ]
        },
        {
         "mode": "lines",
         "name": "m:1.3",
         "type": "scatter",
         "uid": "edd24632-835d-11e9-81b8-116be6612965",
         "x": [
          100,
          200,
          400
         ],
         "y": [
          263.69246788157585,
          394.05493576315166,
          654.7798715263034
         ]
        },
        {
         "mode": "lines",
         "name": "m:1.3",
         "type": "scatter",
         "uid": "edd246d2-835d-11e9-81b8-116be6612965",
         "x": [
          100,
          200,
          400
         ],
         "y": [
          263.77193137131513,
          394.2138627426302,
          655.0977254852605
         ]
        },
        {
         "mode": "lines",
         "name": "m:1.3",
         "type": "scatter",
         "uid": "edd24772-835d-11e9-81b8-116be6612965",
         "x": [
          100,
          200,
          400
         ],
         "y": [
          263.81802019536195,
          394.30604039072387,
          655.2820807814478
         ]
        },
        {
         "mode": "lines",
         "name": "m:1.31",
         "type": "scatter",
         "uid": "edd24808-835d-11e9-81b8-116be6612965",
         "x": [
          100,
          200,
          400
         ],
         "y": [
          263.84475171331,
          394.35950342662,
          655.3890068532401
         ]
        },
        {
         "mode": "lines",
         "name": "m:1.31",
         "type": "scatter",
         "uid": "edd248a8-835d-11e9-81b8-116be6612965",
         "x": [
          100,
          200,
          400
         ],
         "y": [
          263.86025599371,
          394.3905119874199,
          655.4510239748398
         ]
        },
        {
         "mode": "lines",
         "name": "m:1.31",
         "type": "scatter",
         "uid": "edd2493e-835d-11e9-81b8-116be6612965",
         "x": [
          100,
          200,
          400
         ],
         "y": [
          263.8692484763525,
          394.4084969527049,
          655.4869939054098
         ]
        },
        {
         "mode": "lines",
         "name": "m:1.31",
         "type": "scatter",
         "uid": "edd24a10-835d-11e9-81b8-116be6612965",
         "x": [
          100,
          200,
          400
         ],
         "y": [
          263.8744641162831,
          394.41892823256615,
          655.5078564651322
         ]
        },
        {
         "mode": "lines",
         "name": "m:1.31",
         "type": "scatter",
         "uid": "edd24ab0-835d-11e9-81b8-116be6612965",
         "x": [
          100,
          200,
          400
         ],
         "y": [
          263.8774891874455,
          394.424978374891,
          655.5199567497821
         ]
        },
        {
         "mode": "lines",
         "name": "m:1.31",
         "type": "scatter",
         "uid": "edd24b50-835d-11e9-81b8-116be6612965",
         "x": [
          100,
          200,
          400
         ],
         "y": [
          263.87924372871026,
          394.4284874574205,
          655.526974914841
         ]
        },
        {
         "mode": "lines",
         "name": "m:1.31",
         "type": "scatter",
         "uid": "edd24bf0-835d-11e9-81b8-116be6612965",
         "x": [
          100,
          200,
          400
         ],
         "y": [
          263.8802613626413,
          394.4305227252826,
          655.5310454505652
         ]
        },
        {
         "mode": "lines",
         "name": "m:1.31",
         "type": "scatter",
         "uid": "edd24c90-835d-11e9-81b8-116be6612965",
         "x": [
          100,
          200,
          400
         ],
         "y": [
          263.88085159033295,
          394.43170318066586,
          655.5334063613318
         ]
        },
        {
         "mode": "lines",
         "name": "m:1.31",
         "type": "scatter",
         "uid": "edd24d26-835d-11e9-81b8-116be6612965",
         "x": [
          100,
          200,
          400
         ],
         "y": [
          263.8811939223834,
          394.4323878447667,
          655.5347756895335
         ]
        },
        {
         "mode": "lines",
         "name": "m:1.31",
         "type": "scatter",
         "uid": "edd24dbc-835d-11e9-81b8-116be6612965",
         "x": [
          100,
          200,
          400
         ],
         "y": [
          263.8813924749721,
          394.4327849499441,
          655.5355698998883
         ]
        },
        {
         "mode": "lines",
         "name": "m:1.31",
         "type": "scatter",
         "uid": "edd24e5c-835d-11e9-81b8-116be6612965",
         "x": [
          100,
          200,
          400
         ],
         "y": [
          263.88150763547503,
          394.43301527095,
          655.5360305419
         ]
        },
        {
         "mode": "lines",
         "name": "m:1.31",
         "type": "scatter",
         "uid": "edd24efc-835d-11e9-81b8-116be6612965",
         "x": [
          100,
          200,
          400
         ],
         "y": [
          263.8815744285749,
          394.4331488571497,
          655.5362977142995
         ]
        },
        {
         "mode": "lines",
         "name": "m:1.31",
         "type": "scatter",
         "uid": "edd24f9c-835d-11e9-81b8-116be6612965",
         "x": [
          100,
          200,
          400
         ],
         "y": [
          263.88161316856537,
          394.4332263371307,
          655.5364526742615
         ]
        },
        {
         "mode": "lines",
         "name": "m:1.31",
         "type": "scatter",
         "uid": "edd25032-835d-11e9-81b8-116be6612965",
         "x": [
          100,
          200,
          400
         ],
         "y": [
          263.8816356377557,
          394.4332712755114,
          655.5365425510228
         ]
        },
        {
         "mode": "lines",
         "name": "m:1.31",
         "type": "scatter",
         "uid": "edd250dc-835d-11e9-81b8-116be6612965",
         "x": [
          100,
          200,
          400
         ],
         "y": [
          263.88164866989797,
          394.4332973397959,
          655.5365946795919
         ]
        },
        {
         "mode": "lines",
         "name": "m:1.31",
         "type": "scatter",
         "uid": "edd25172-835d-11e9-81b8-116be6612965",
         "x": [
          100,
          200,
          400
         ],
         "y": [
          263.88165622853205,
          394.43331245706406,
          655.5366249141281
         ]
        },
        {
         "mode": "lines",
         "name": "m:1.31",
         "type": "scatter",
         "uid": "edd2521c-835d-11e9-81b8-116be6612965",
         "x": [
          100,
          200,
          400
         ],
         "y": [
          263.8816606125457,
          394.4333212250914,
          655.5366424501827
         ]
        },
        {
         "mode": "lines",
         "name": "m:1.31",
         "type": "scatter",
         "uid": "edd252bc-835d-11e9-81b8-116be6612965",
         "x": [
          100,
          200,
          400
         ],
         "y": [
          263.88166315528,
          394.43332631056,
          655.5366526211201
         ]
        },
        {
         "mode": "lines",
         "name": "m:1.31",
         "type": "scatter",
         "uid": "edd25352-835d-11e9-81b8-116be6612965",
         "x": [
          100,
          200,
          400
         ],
         "y": [
          263.88166463005297,
          394.4333292601059,
          655.5366585202119
         ]
        },
        {
         "mode": "lines",
         "name": "m:1.31",
         "type": "scatter",
         "uid": "edd253f2-835d-11e9-81b8-116be6612965",
         "x": [
          100,
          200,
          400
         ],
         "y": [
          263.88166548542006,
          394.4333309708401,
          655.5366619416801
         ]
        },
        {
         "mode": "lines",
         "name": "m:1.31",
         "type": "scatter",
         "uid": "edd25492-835d-11e9-81b8-116be6612965",
         "x": [
          100,
          200,
          400
         ],
         "y": [
          263.88166598154396,
          394.4333319630879,
          655.5366639261757
         ]
        },
        {
         "mode": "lines",
         "name": "m:1.31",
         "type": "scatter",
         "uid": "edd25528-835d-11e9-81b8-116be6612965",
         "x": [
          100,
          200,
          400
         ],
         "y": [
          263.88166626929535,
          394.43333253859066,
          655.5366650771813
         ]
        },
        {
         "mode": "lines",
         "name": "m:1.31",
         "type": "scatter",
         "uid": "edd255c8-835d-11e9-81b8-116be6612965",
         "x": [
          100,
          200,
          400
         ],
         "y": [
          263.88166643619127,
          394.4333328723825,
          655.536665744765
         ]
        },
        {
         "mode": "lines",
         "name": "m:1.31",
         "type": "scatter",
         "uid": "edd25672-835d-11e9-81b8-116be6612965",
         "x": [
          100,
          200,
          400
         ],
         "y": [
          263.8816665329906,
          394.4333330659812,
          655.5366661319623
         ]
        },
        {
         "mode": "lines",
         "name": "m:1.31",
         "type": "scatter",
         "uid": "edd25708-835d-11e9-81b8-116be6612965",
         "x": [
          100,
          200,
          400
         ],
         "y": [
          263.88166658914463,
          394.4333331782892,
          655.5366663565784
         ]
        },
        {
         "mode": "lines",
         "name": "m:1.31",
         "type": "scatter",
         "uid": "edd257a8-835d-11e9-81b8-116be6612965",
         "x": [
          100,
          200,
          400
         ],
         "y": [
          263.88166662170454,
          394.43333324340904,
          655.536666486818
         ]
        },
        {
         "mode": "lines",
         "name": "m:1.31",
         "type": "scatter",
         "uid": "edd25848-835d-11e9-81b8-116be6612965",
         "x": [
          100,
          200,
          400
         ],
         "y": [
          263.8816666405911,
          394.4333332811822,
          655.5366665623643
         ]
        },
        {
         "mode": "lines",
         "name": "m:1.31",
         "type": "scatter",
         "uid": "edd25906-835d-11e9-81b8-116be6612965",
         "x": [
          100,
          200,
          400
         ],
         "y": [
          263.88166665154137,
          394.4333333030827,
          655.5366666061655
         ]
        },
        {
         "mode": "lines",
         "name": "m:1.31",
         "type": "scatter",
         "uid": "edd259a6-835d-11e9-81b8-116be6612965",
         "x": [
          100,
          200,
          400
         ],
         "y": [
          263.8816666578842,
          394.4333333157683,
          655.5366666315367
         ]
        },
        {
         "mode": "lines",
         "name": "m:1.31",
         "type": "scatter",
         "uid": "edd25a50-835d-11e9-81b8-116be6612965",
         "x": [
          100,
          200,
          400
         ],
         "y": [
          263.8816666615622,
          394.4333333231243,
          655.5366666462487
         ]
        },
        {
         "mode": "lines",
         "name": "m:1.31",
         "type": "scatter",
         "uid": "edd25b5e-835d-11e9-81b8-116be6612965",
         "x": [
          100,
          200,
          400
         ],
         "y": [
          263.88166666370677,
          394.4333333274135,
          655.5366666548271
         ]
        },
        {
         "mode": "lines",
         "name": "m:1.31",
         "type": "scatter",
         "uid": "edd25bfe-835d-11e9-81b8-116be6612965",
         "x": [
          100,
          200,
          400
         ],
         "y": [
          263.8816666649401,
          394.43333332988016,
          655.5366666597603
         ]
        },
        {
         "mode": "lines",
         "name": "m:1.31",
         "type": "scatter",
         "uid": "edd25c94-835d-11e9-81b8-116be6612965",
         "x": [
          100,
          200,
          400
         ],
         "y": [
          263.8816666656659,
          394.4333333313317,
          655.5366666626634
         ]
        },
        {
         "mode": "lines",
         "name": "m:1.31",
         "type": "scatter",
         "uid": "edd25d34-835d-11e9-81b8-116be6612965",
         "x": [
          100,
          200,
          400
         ],
         "y": [
          263.88166666608606,
          394.4333333321721,
          655.5366666643441
         ]
        },
        {
         "mode": "lines",
         "name": "m:1.31",
         "type": "scatter",
         "uid": "edd25dca-835d-11e9-81b8-116be6612965",
         "x": [
          100,
          200,
          400
         ],
         "y": [
          263.8816666663316,
          394.4333333326632,
          655.5366666653264
         ]
        },
        {
         "mode": "lines",
         "name": "m:1.31",
         "type": "scatter",
         "uid": "edd25e60-835d-11e9-81b8-116be6612965",
         "x": [
          100,
          200,
          400
         ],
         "y": [
          263.8816666664717,
          394.43333333294333,
          655.5366666658866
         ]
        },
        {
         "mode": "lines",
         "name": "m:1.31",
         "type": "scatter",
         "uid": "edd25f00-835d-11e9-81b8-116be6612965",
         "x": [
          100,
          200,
          400
         ],
         "y": [
          263.88166666655536,
          394.4333333331107,
          655.5366666662213
         ]
        },
        {
         "mode": "lines",
         "name": "m:1.31",
         "type": "scatter",
         "uid": "edd25fa0-835d-11e9-81b8-116be6612965",
         "x": [
          100,
          200,
          400
         ],
         "y": [
          263.88166666660265,
          394.43333333320527,
          655.5366666664105
         ]
        },
        {
         "mode": "lines",
         "name": "m:1.31",
         "type": "scatter",
         "uid": "edd26040-835d-11e9-81b8-116be6612965",
         "x": [
          100,
          200,
          400
         ],
         "y": [
          263.88166666662994,
          394.43333333325984,
          655.5366666665196
         ]
        },
        {
         "mode": "lines",
         "name": "m:1.31",
         "type": "scatter",
         "uid": "edd2618a-835d-11e9-81b8-116be6612965",
         "x": [
          100,
          200,
          400
         ],
         "y": [
          263.8816666666427,
          394.4333333332853,
          655.5366666665706
         ]
        },
        {
         "mode": "lines",
         "name": "m:1.31",
         "type": "scatter",
         "uid": "edd2622a-835d-11e9-81b8-116be6612965",
         "x": [
          100,
          200,
          400
         ],
         "y": [
          263.88166666665177,
          394.4333333333035,
          655.536666666607
         ]
        },
        {
         "mode": "lines",
         "name": "m:1.31",
         "type": "scatter",
         "uid": "edd262c0-835d-11e9-81b8-116be6612965",
         "x": [
          100,
          200,
          400
         ],
         "y": [
          263.8816666666572,
          394.4333333333144,
          655.5366666666288
         ]
        },
        {
         "mode": "lines",
         "name": "m:1.31",
         "type": "scatter",
         "uid": "edd263e2-835d-11e9-81b8-116be6612965",
         "x": [
          100,
          200,
          400
         ],
         "y": [
          263.8816666666627,
          394.4333333333253,
          655.5366666666506
         ]
        },
        {
         "mode": "lines",
         "name": "m:1.31",
         "type": "scatter",
         "uid": "edd26482-835d-11e9-81b8-116be6612965",
         "x": [
          100,
          200,
          400
         ],
         "y": [
          263.8816666666627,
          394.4333333333253,
          655.5366666666506
         ]
        },
        {
         "mode": "lines",
         "name": "m:1.31",
         "type": "scatter",
         "uid": "edd26518-835d-11e9-81b8-116be6612965",
         "x": [
          100,
          200,
          400
         ],
         "y": [
          263.8816666666627,
          394.4333333333253,
          655.5366666666506
         ]
        },
        {
         "mode": "lines",
         "name": "m:1.31",
         "type": "scatter",
         "uid": "edd265b8-835d-11e9-81b8-116be6612965",
         "x": [
          100,
          200,
          400
         ],
         "y": [
          263.8816666666627,
          394.4333333333253,
          655.5366666666506
         ]
        },
        {
         "mode": "lines",
         "name": "m:1.31",
         "type": "scatter",
         "uid": "edd2664e-835d-11e9-81b8-116be6612965",
         "x": [
          100,
          200,
          400
         ],
         "y": [
          263.8816666666627,
          394.4333333333253,
          655.5366666666506
         ]
        },
        {
         "mode": "lines",
         "name": "m:1.31",
         "type": "scatter",
         "uid": "edd266ee-835d-11e9-81b8-116be6612965",
         "x": [
          100,
          200,
          400
         ],
         "y": [
          263.8816666666627,
          394.4333333333253,
          655.5366666666506
         ]
        },
        {
         "mode": "lines",
         "name": "m:1.31",
         "type": "scatter",
         "uid": "edd26784-835d-11e9-81b8-116be6612965",
         "x": [
          100,
          200,
          400
         ],
         "y": [
          263.8816666666627,
          394.4333333333253,
          655.5366666666506
         ]
        },
        {
         "mode": "lines",
         "name": "m:1.31",
         "type": "scatter",
         "uid": "edd2681a-835d-11e9-81b8-116be6612965",
         "x": [
          100,
          200,
          400
         ],
         "y": [
          263.8816666666627,
          394.4333333333253,
          655.5366666666506
         ]
        },
        {
         "mode": "lines",
         "name": "m:1.31",
         "type": "scatter",
         "uid": "edd268ba-835d-11e9-81b8-116be6612965",
         "x": [
          100,
          200,
          400
         ],
         "y": [
          263.8816666666627,
          394.4333333333253,
          655.5366666666506
         ]
        },
        {
         "mode": "lines",
         "name": "m:1.31",
         "type": "scatter",
         "uid": "edd26950-835d-11e9-81b8-116be6612965",
         "x": [
          100,
          200,
          400
         ],
         "y": [
          263.8816666666627,
          394.4333333333253,
          655.5366666666506
         ]
        },
        {
         "mode": "lines",
         "name": "m:1.31",
         "type": "scatter",
         "uid": "edd269f0-835d-11e9-81b8-116be6612965",
         "x": [
          100,
          200,
          400
         ],
         "y": [
          263.8816666666627,
          394.4333333333253,
          655.5366666666506
         ]
        },
        {
         "mode": "lines",
         "name": "m:1.31",
         "type": "scatter",
         "uid": "edd26a90-835d-11e9-81b8-116be6612965",
         "x": [
          100,
          200,
          400
         ],
         "y": [
          263.8816666666627,
          394.4333333333253,
          655.5366666666506
         ]
        },
        {
         "mode": "lines",
         "name": "m:1.31",
         "type": "scatter",
         "uid": "edd26b26-835d-11e9-81b8-116be6612965",
         "x": [
          100,
          200,
          400
         ],
         "y": [
          263.8816666666627,
          394.4333333333253,
          655.5366666666506
         ]
        },
        {
         "mode": "lines",
         "name": "m:1.31",
         "type": "scatter",
         "uid": "edd26bda-835d-11e9-81b8-116be6612965",
         "x": [
          100,
          200,
          400
         ],
         "y": [
          263.8816666666627,
          394.4333333333253,
          655.5366666666506
         ]
        },
        {
         "mode": "lines",
         "name": "m:1.31",
         "type": "scatter",
         "uid": "edd26c70-835d-11e9-81b8-116be6612965",
         "x": [
          100,
          200,
          400
         ],
         "y": [
          263.8816666666627,
          394.4333333333253,
          655.5366666666506
         ]
        },
        {
         "mode": "lines",
         "name": "m:1.31",
         "type": "scatter",
         "uid": "edd26d10-835d-11e9-81b8-116be6612965",
         "x": [
          100,
          200,
          400
         ],
         "y": [
          263.8816666666627,
          394.4333333333253,
          655.5366666666506
         ]
        },
        {
         "mode": "lines",
         "name": "m:1.31",
         "type": "scatter",
         "uid": "edd26db0-835d-11e9-81b8-116be6612965",
         "x": [
          100,
          200,
          400
         ],
         "y": [
          263.8816666666627,
          394.4333333333253,
          655.5366666666506
         ]
        },
        {
         "mode": "lines",
         "name": "m:1.31",
         "type": "scatter",
         "uid": "edd26e46-835d-11e9-81b8-116be6612965",
         "x": [
          100,
          200,
          400
         ],
         "y": [
          263.8816666666627,
          394.4333333333253,
          655.5366666666506
         ]
        },
        {
         "mode": "lines",
         "name": "m:1.31",
         "type": "scatter",
         "uid": "edd26edc-835d-11e9-81b8-116be6612965",
         "x": [
          100,
          200,
          400
         ],
         "y": [
          263.8816666666627,
          394.4333333333253,
          655.5366666666506
         ]
        },
        {
         "mode": "lines",
         "name": "m:1.31",
         "type": "scatter",
         "uid": "edd26f7c-835d-11e9-81b8-116be6612965",
         "x": [
          100,
          200,
          400
         ],
         "y": [
          263.8816666666627,
          394.4333333333253,
          655.5366666666506
         ]
        },
        {
         "mode": "lines",
         "name": "m:1.31",
         "type": "scatter",
         "uid": "edd2701c-835d-11e9-81b8-116be6612965",
         "x": [
          100,
          200,
          400
         ],
         "y": [
          263.8816666666627,
          394.4333333333253,
          655.5366666666506
         ]
        },
        {
         "mode": "lines",
         "name": "m:1.31",
         "type": "scatter",
         "uid": "edd270b2-835d-11e9-81b8-116be6612965",
         "x": [
          100,
          200,
          400
         ],
         "y": [
          263.8816666666627,
          394.4333333333253,
          655.5366666666506
         ]
        },
        {
         "mode": "lines",
         "name": "m:1.31",
         "type": "scatter",
         "uid": "edd27152-835d-11e9-81b8-116be6612965",
         "x": [
          100,
          200,
          400
         ],
         "y": [
          263.8816666666627,
          394.4333333333253,
          655.5366666666506
         ]
        },
        {
         "mode": "lines",
         "name": "m:1.31",
         "type": "scatter",
         "uid": "edd271e8-835d-11e9-81b8-116be6612965",
         "x": [
          100,
          200,
          400
         ],
         "y": [
          263.8816666666627,
          394.4333333333253,
          655.5366666666506
         ]
        },
        {
         "mode": "lines",
         "name": "m:1.31",
         "type": "scatter",
         "uid": "edd27288-835d-11e9-81b8-116be6612965",
         "x": [
          100,
          200,
          400
         ],
         "y": [
          263.8816666666627,
          394.4333333333253,
          655.5366666666506
         ]
        },
        {
         "mode": "lines",
         "name": "m:1.31",
         "type": "scatter",
         "uid": "edd2731e-835d-11e9-81b8-116be6612965",
         "x": [
          100,
          200,
          400
         ],
         "y": [
          263.8816666666627,
          394.4333333333253,
          655.5366666666506
         ]
        },
        {
         "mode": "lines",
         "name": "m:1.31",
         "type": "scatter",
         "uid": "edd273c8-835d-11e9-81b8-116be6612965",
         "x": [
          100,
          200,
          400
         ],
         "y": [
          263.8816666666627,
          394.4333333333253,
          655.5366666666506
         ]
        },
        {
         "mode": "lines",
         "name": "m:1.31",
         "type": "scatter",
         "uid": "edd2745e-835d-11e9-81b8-116be6612965",
         "x": [
          100,
          200,
          400
         ],
         "y": [
          263.8816666666627,
          394.4333333333253,
          655.5366666666506
         ]
        },
        {
         "mode": "lines",
         "name": "m:1.31",
         "type": "scatter",
         "uid": "edd274fe-835d-11e9-81b8-116be6612965",
         "x": [
          100,
          200,
          400
         ],
         "y": [
          263.8816666666627,
          394.4333333333253,
          655.5366666666506
         ]
        },
        {
         "mode": "lines",
         "name": "m:1.31",
         "type": "scatter",
         "uid": "edd27594-835d-11e9-81b8-116be6612965",
         "x": [
          100,
          200,
          400
         ],
         "y": [
          263.8816666666627,
          394.4333333333253,
          655.5366666666506
         ]
        },
        {
         "mode": "lines",
         "name": "m:1.31",
         "type": "scatter",
         "uid": "edd27634-835d-11e9-81b8-116be6612965",
         "x": [
          100,
          200,
          400
         ],
         "y": [
          263.8816666666627,
          394.4333333333253,
          655.5366666666506
         ]
        },
        {
         "mode": "lines",
         "name": "m:1.31",
         "type": "scatter",
         "uid": "edd276e8-835d-11e9-81b8-116be6612965",
         "x": [
          100,
          200,
          400
         ],
         "y": [
          263.8816666666627,
          394.4333333333253,
          655.5366666666506
         ]
        },
        {
         "mode": "lines",
         "name": "m:1.31",
         "type": "scatter",
         "uid": "edd2777e-835d-11e9-81b8-116be6612965",
         "x": [
          100,
          200,
          400
         ],
         "y": [
          263.8816666666627,
          394.4333333333253,
          655.5366666666506
         ]
        },
        {
         "mode": "lines",
         "name": "m:1.31",
         "type": "scatter",
         "uid": "edd2781e-835d-11e9-81b8-116be6612965",
         "x": [
          100,
          200,
          400
         ],
         "y": [
          263.8816666666627,
          394.4333333333253,
          655.5366666666506
         ]
        },
        {
         "mode": "lines",
         "name": "m:1.31",
         "type": "scatter",
         "uid": "edd278b4-835d-11e9-81b8-116be6612965",
         "x": [
          100,
          200,
          400
         ],
         "y": [
          263.8816666666627,
          394.4333333333253,
          655.5366666666506
         ]
        },
        {
         "mode": "lines",
         "name": "m:1.31",
         "type": "scatter",
         "uid": "edd27954-835d-11e9-81b8-116be6612965",
         "x": [
          100,
          200,
          400
         ],
         "y": [
          263.8816666666627,
          394.4333333333253,
          655.5366666666506
         ]
        },
        {
         "mode": "lines",
         "name": "m:1.31",
         "type": "scatter",
         "uid": "edd279ea-835d-11e9-81b8-116be6612965",
         "x": [
          100,
          200,
          400
         ],
         "y": [
          263.8816666666627,
          394.4333333333253,
          655.5366666666506
         ]
        },
        {
         "mode": "lines",
         "name": "m:1.31",
         "type": "scatter",
         "uid": "edd27a80-835d-11e9-81b8-116be6612965",
         "x": [
          100,
          200,
          400
         ],
         "y": [
          263.8816666666627,
          394.4333333333253,
          655.5366666666506
         ]
        },
        {
         "mode": "lines",
         "name": "m:1.31",
         "type": "scatter",
         "uid": "edd27b20-835d-11e9-81b8-116be6612965",
         "x": [
          100,
          200,
          400
         ],
         "y": [
          263.8816666666627,
          394.4333333333253,
          655.5366666666506
         ]
        },
        {
         "mode": "lines",
         "name": "m:1.31",
         "type": "scatter",
         "uid": "edd27bd4-835d-11e9-81b8-116be6612965",
         "x": [
          100,
          200,
          400
         ],
         "y": [
          263.8816666666627,
          394.4333333333253,
          655.5366666666506
         ]
        },
        {
         "mode": "lines",
         "name": "m:1.31",
         "type": "scatter",
         "uid": "edd27c6a-835d-11e9-81b8-116be6612965",
         "x": [
          100,
          200,
          400
         ],
         "y": [
          263.8816666666627,
          394.4333333333253,
          655.5366666666506
         ]
        },
        {
         "mode": "lines",
         "name": "m:1.31",
         "type": "scatter",
         "uid": "edd27d00-835d-11e9-81b8-116be6612965",
         "x": [
          100,
          200,
          400
         ],
         "y": [
          263.8816666666627,
          394.4333333333253,
          655.5366666666506
         ]
        },
        {
         "mode": "lines",
         "name": "m:1.31",
         "type": "scatter",
         "uid": "edd27d96-835d-11e9-81b8-116be6612965",
         "x": [
          100,
          200,
          400
         ],
         "y": [
          263.8816666666627,
          394.4333333333253,
          655.5366666666506
         ]
        },
        {
         "mode": "lines",
         "name": "m:1.31",
         "type": "scatter",
         "uid": "edd27e2c-835d-11e9-81b8-116be6612965",
         "x": [
          100,
          200,
          400
         ],
         "y": [
          263.8816666666627,
          394.4333333333253,
          655.5366666666506
         ]
        },
        {
         "mode": "lines",
         "name": "m:1.31",
         "type": "scatter",
         "uid": "edd27ecc-835d-11e9-81b8-116be6612965",
         "x": [
          100,
          200,
          400
         ],
         "y": [
          263.8816666666627,
          394.4333333333253,
          655.5366666666506
         ]
        },
        {
         "mode": "lines",
         "name": "m:1.31",
         "type": "scatter",
         "uid": "edd27f62-835d-11e9-81b8-116be6612965",
         "x": [
          100,
          200,
          400
         ],
         "y": [
          263.8816666666627,
          394.4333333333253,
          655.5366666666506
         ]
        },
        {
         "mode": "lines",
         "name": "m:1.31",
         "type": "scatter",
         "uid": "edd27fee-835d-11e9-81b8-116be6612965",
         "x": [
          100,
          200,
          400
         ],
         "y": [
          263.8816666666627,
          394.4333333333253,
          655.5366666666506
         ]
        },
        {
         "mode": "lines",
         "name": "m:1.31",
         "type": "scatter",
         "uid": "edd28084-835d-11e9-81b8-116be6612965",
         "x": [
          100,
          200,
          400
         ],
         "y": [
          263.8816666666627,
          394.4333333333253,
          655.5366666666506
         ]
        },
        {
         "mode": "lines",
         "name": "m:1.31",
         "type": "scatter",
         "uid": "edd28110-835d-11e9-81b8-116be6612965",
         "x": [
          100,
          200,
          400
         ],
         "y": [
          263.8816666666627,
          394.4333333333253,
          655.5366666666506
         ]
        },
        {
         "mode": "lines",
         "name": "m:1.31",
         "type": "scatter",
         "uid": "edd2819c-835d-11e9-81b8-116be6612965",
         "x": [
          100,
          200,
          400
         ],
         "y": [
          263.8816666666627,
          394.4333333333253,
          655.5366666666506
         ]
        },
        {
         "mode": "lines",
         "name": "m:1.31",
         "type": "scatter",
         "uid": "edd28228-835d-11e9-81b8-116be6612965",
         "x": [
          100,
          200,
          400
         ],
         "y": [
          263.8816666666627,
          394.4333333333253,
          655.5366666666506
         ]
        }
       ],
       "layout": {}
      },
      "text/html": [
       "<div id=\"4bdc7f6a-cfe5-4a9e-aa84-4f73f2ffe919\" style=\"height: 525px; width: 100%;\" class=\"plotly-graph-div\"></div><script type=\"text/javascript\">require([\"plotly\"], function(Plotly) { window.PLOTLYENV=window.PLOTLYENV || {};window.PLOTLYENV.BASE_URL=\"https://plot.ly\";Plotly.newPlot(\"4bdc7f6a-cfe5-4a9e-aa84-4f73f2ffe919\", [{\"mode\": \"markers\", \"name\": \"data\", \"text\": [], \"x\": [100, 200, 400], \"y\": [275, 300, 700], \"type\": \"scatter\", \"uid\": \"ee17ef48-835d-11e9-81b8-116be6612965\"}, {\"mode\": \"lines\", \"name\": \"m:0\", \"x\": [100, 200, 400], \"y\": [133.33, 133.33, 133.33], \"type\": \"scatter\", \"uid\": \"ee17f178-835d-11e9-81b8-116be6612965\"}, {\"mode\": \"lines\", \"name\": \"m:0.55\", \"x\": [100, 200, 400], \"y\": [188.16169999998064, 242.99339999996124, 352.6567999999225], \"type\": \"scatter\", \"uid\": \"ee17f254-835d-11e9-81b8-116be6612965\"}, {\"mode\": \"lines\", \"name\": \"m:0.87\", \"x\": [100, 200, 400], \"y\": [219.96408600000547, 306.59817200001095, 479.86634400002185], \"type\": \"scatter\", \"uid\": \"ee17f376-835d-11e9-81b8-116be6612965\"}, {\"mode\": \"lines\", \"name\": \"m:1.05\", \"x\": [100, 200, 400], \"y\": [238.40946988004552, 343.48893976009106, 553.6478795201821], \"type\": \"scatter\", \"uid\": \"ee17f42a-835d-11e9-81b8-116be6612965\"}, {\"mode\": \"lines\", \"name\": \"m:1.16\", \"x\": [100, 200, 400], \"y\": [249.1077925304181, 364.8855850608362, 596.4411701216724], \"type\": \"scatter\", \"uid\": \"ee17f4ca-835d-11e9-81b8-116be6612965\"}, {\"mode\": \"lines\", \"name\": \"m:1.22\", \"x\": [100, 200, 400], \"y\": [255.312819667639, 377.295639335278, 621.261278670556], \"type\": \"scatter\", \"uid\": \"ee17f574-835d-11e9-81b8-116be6612965\"}, {\"mode\": \"lines\", \"name\": \"m:1.26\", \"x\": [100, 200, 400], \"y\": [258.9117354072278, 384.49347081445563, 635.6569416289112], \"type\": \"scatter\", \"uid\": \"ee17f614-835d-11e9-81b8-116be6612965\"}, {\"mode\": \"lines\", \"name\": \"m:1.28\", \"x\": [100, 200, 400], \"y\": [260.9991065361975, 388.6682130723949, 644.0064261447898], \"type\": \"scatter\", \"uid\": \"ee17f6b4-835d-11e9-81b8-116be6612965\"}, {\"mode\": \"lines\", \"name\": \"m:1.29\", \"x\": [100, 200, 400], \"y\": [262.2097817909945, 391.08956358198895, 648.8491271639779], \"type\": \"scatter\", \"uid\": \"ee17f75e-835d-11e9-81b8-116be6612965\"}, {\"mode\": \"lines\", \"name\": \"m:1.3\", \"x\": [100, 200, 400], \"y\": [262.91197343877695, 392.49394687755387, 651.6578937551077], \"type\": \"scatter\", \"uid\": \"ee17f7f4-835d-11e9-81b8-116be6612965\"}, {\"mode\": \"lines\", \"name\": \"m:1.3\", \"x\": [100, 200, 400], \"y\": [263.31924459448976, 393.3084891889795, 653.2869783779589], \"type\": \"scatter\", \"uid\": \"ee17f894-835d-11e9-81b8-116be6612965\"}, {\"mode\": \"lines\", \"name\": \"m:1.3\", \"x\": [100, 200, 400], \"y\": [263.5554618648021, 393.7809237296042, 654.2318474592084], \"type\": \"scatter\", \"uid\": \"ee17f934-835d-11e9-81b8-116be6612965\"}, {\"mode\": \"lines\", \"name\": \"m:1.3\", \"x\": [100, 200, 400], \"y\": [263.69246788157585, 394.05493576315166, 654.7798715263034], \"type\": \"scatter\", \"uid\": \"ee17fa42-835d-11e9-81b8-116be6612965\"}, {\"mode\": \"lines\", \"name\": \"m:1.3\", \"x\": [100, 200, 400], \"y\": [263.77193137131513, 394.2138627426302, 655.0977254852605], \"type\": \"scatter\", \"uid\": \"ee17faec-835d-11e9-81b8-116be6612965\"}, {\"mode\": \"lines\", \"name\": \"m:1.3\", \"x\": [100, 200, 400], \"y\": [263.81802019536195, 394.30604039072387, 655.2820807814478], \"type\": \"scatter\", \"uid\": \"ee17fb8c-835d-11e9-81b8-116be6612965\"}, {\"mode\": \"lines\", \"name\": \"m:1.31\", \"x\": [100, 200, 400], \"y\": [263.84475171331, 394.35950342662, 655.3890068532401], \"type\": \"scatter\", \"uid\": \"ee17fc2c-835d-11e9-81b8-116be6612965\"}, {\"mode\": \"lines\", \"name\": \"m:1.31\", \"x\": [100, 200, 400], \"y\": [263.86025599371, 394.3905119874199, 655.4510239748398], \"type\": \"scatter\", \"uid\": \"ee17fcd6-835d-11e9-81b8-116be6612965\"}, {\"mode\": \"lines\", \"name\": \"m:1.31\", \"x\": [100, 200, 400], \"y\": [263.8692484763525, 394.4084969527049, 655.4869939054098], \"type\": \"scatter\", \"uid\": \"ee17fd76-835d-11e9-81b8-116be6612965\"}, {\"mode\": \"lines\", \"name\": \"m:1.31\", \"x\": [100, 200, 400], \"y\": [263.8744641162831, 394.41892823256615, 655.5078564651322], \"type\": \"scatter\", \"uid\": \"ee17fe16-835d-11e9-81b8-116be6612965\"}, {\"mode\": \"lines\", \"name\": \"m:1.31\", \"x\": [100, 200, 400], \"y\": [263.8774891874455, 394.424978374891, 655.5199567497821], \"type\": \"scatter\", \"uid\": \"ee17fec0-835d-11e9-81b8-116be6612965\"}, {\"mode\": \"lines\", \"name\": \"m:1.31\", \"x\": [100, 200, 400], \"y\": [263.87924372871026, 394.4284874574205, 655.526974914841], \"type\": \"scatter\", \"uid\": \"ee17ff60-835d-11e9-81b8-116be6612965\"}, {\"mode\": \"lines\", \"name\": \"m:1.31\", \"x\": [100, 200, 400], \"y\": [263.8802613626413, 394.4305227252826, 655.5310454505652], \"type\": \"scatter\", \"uid\": \"ee180000-835d-11e9-81b8-116be6612965\"}, {\"mode\": \"lines\", \"name\": \"m:1.31\", \"x\": [100, 200, 400], \"y\": [263.88085159033295, 394.43170318066586, 655.5334063613318], \"type\": \"scatter\", \"uid\": \"ee1800a0-835d-11e9-81b8-116be6612965\"}, {\"mode\": \"lines\", \"name\": \"m:1.31\", \"x\": [100, 200, 400], \"y\": [263.8811939223834, 394.4323878447667, 655.5347756895335], \"type\": \"scatter\", \"uid\": \"ee180140-835d-11e9-81b8-116be6612965\"}, {\"mode\": \"lines\", \"name\": \"m:1.31\", \"x\": [100, 200, 400], \"y\": [263.8813924749721, 394.4327849499441, 655.5355698998883], \"type\": \"scatter\", \"uid\": \"ee1801e0-835d-11e9-81b8-116be6612965\"}, {\"mode\": \"lines\", \"name\": \"m:1.31\", \"x\": [100, 200, 400], \"y\": [263.88150763547503, 394.43301527095, 655.5360305419], \"type\": \"scatter\", \"uid\": \"ee18029e-835d-11e9-81b8-116be6612965\"}, {\"mode\": \"lines\", \"name\": \"m:1.31\", \"x\": [100, 200, 400], \"y\": [263.8815744285749, 394.4331488571497, 655.5362977142995], \"type\": \"scatter\", \"uid\": \"ee180348-835d-11e9-81b8-116be6612965\"}, {\"mode\": \"lines\", \"name\": \"m:1.31\", \"x\": [100, 200, 400], \"y\": [263.88161316856537, 394.4332263371307, 655.5364526742615], \"type\": \"scatter\", \"uid\": \"ee1803e8-835d-11e9-81b8-116be6612965\"}, {\"mode\": \"lines\", \"name\": \"m:1.31\", \"x\": [100, 200, 400], \"y\": [263.8816356377557, 394.4332712755114, 655.5365425510228], \"type\": \"scatter\", \"uid\": \"ee180488-835d-11e9-81b8-116be6612965\"}, {\"mode\": \"lines\", \"name\": \"m:1.31\", \"x\": [100, 200, 400], \"y\": [263.88164866989797, 394.4332973397959, 655.5365946795919], \"type\": \"scatter\", \"uid\": \"ee18051e-835d-11e9-81b8-116be6612965\"}, {\"mode\": \"lines\", \"name\": \"m:1.31\", \"x\": [100, 200, 400], \"y\": [263.88165622853205, 394.43331245706406, 655.5366249141281], \"type\": \"scatter\", \"uid\": \"ee1805b4-835d-11e9-81b8-116be6612965\"}, {\"mode\": \"lines\", \"name\": \"m:1.31\", \"x\": [100, 200, 400], \"y\": [263.8816606125457, 394.4333212250914, 655.5366424501827], \"type\": \"scatter\", \"uid\": \"ee18065e-835d-11e9-81b8-116be6612965\"}, {\"mode\": \"lines\", \"name\": \"m:1.31\", \"x\": [100, 200, 400], \"y\": [263.88166315528, 394.43332631056, 655.5366526211201], \"type\": \"scatter\", \"uid\": \"ee1806f4-835d-11e9-81b8-116be6612965\"}, {\"mode\": \"lines\", \"name\": \"m:1.31\", \"x\": [100, 200, 400], \"y\": [263.88166463005297, 394.4333292601059, 655.5366585202119], \"type\": \"scatter\", \"uid\": \"ee18078a-835d-11e9-81b8-116be6612965\"}, {\"mode\": \"lines\", \"name\": \"m:1.31\", \"x\": [100, 200, 400], \"y\": [263.88166548542006, 394.4333309708401, 655.5366619416801], \"type\": \"scatter\", \"uid\": \"ee18082a-835d-11e9-81b8-116be6612965\"}, {\"mode\": \"lines\", \"name\": \"m:1.31\", \"x\": [100, 200, 400], \"y\": [263.88166598154396, 394.4333319630879, 655.5366639261757], \"type\": \"scatter\", \"uid\": \"ee1808ca-835d-11e9-81b8-116be6612965\"}, {\"mode\": \"lines\", \"name\": \"m:1.31\", \"x\": [100, 200, 400], \"y\": [263.88166626929535, 394.43333253859066, 655.5366650771813], \"type\": \"scatter\", \"uid\": \"ee180960-835d-11e9-81b8-116be6612965\"}, {\"mode\": \"lines\", \"name\": \"m:1.31\", \"x\": [100, 200, 400], \"y\": [263.88166643619127, 394.4333328723825, 655.536665744765], \"type\": \"scatter\", \"uid\": \"ee180a00-835d-11e9-81b8-116be6612965\"}, {\"mode\": \"lines\", \"name\": \"m:1.31\", \"x\": [100, 200, 400], \"y\": [263.8816665329906, 394.4333330659812, 655.5366661319623], \"type\": \"scatter\", \"uid\": \"ee180aaa-835d-11e9-81b8-116be6612965\"}, {\"mode\": \"lines\", \"name\": \"m:1.31\", \"x\": [100, 200, 400], \"y\": [263.88166658914463, 394.4333331782892, 655.5366663565784], \"type\": \"scatter\", \"uid\": \"ee180b4a-835d-11e9-81b8-116be6612965\"}, {\"mode\": \"lines\", \"name\": \"m:1.31\", \"x\": [100, 200, 400], \"y\": [263.88166662170454, 394.43333324340904, 655.536666486818], \"type\": \"scatter\", \"uid\": \"ee180be0-835d-11e9-81b8-116be6612965\"}, {\"mode\": \"lines\", \"name\": \"m:1.31\", \"x\": [100, 200, 400], \"y\": [263.8816666405911, 394.4333332811822, 655.5366665623643], \"type\": \"scatter\", \"uid\": \"ee180c80-835d-11e9-81b8-116be6612965\"}, {\"mode\": \"lines\", \"name\": \"m:1.31\", \"x\": [100, 200, 400], \"y\": [263.88166665154137, 394.4333333030827, 655.5366666061655], \"type\": \"scatter\", \"uid\": \"ee180d16-835d-11e9-81b8-116be6612965\"}, {\"mode\": \"lines\", \"name\": \"m:1.31\", \"x\": [100, 200, 400], \"y\": [263.8816666578842, 394.4333333157683, 655.5366666315367], \"type\": \"scatter\", \"uid\": \"ee180db6-835d-11e9-81b8-116be6612965\"}, {\"mode\": \"lines\", \"name\": \"m:1.31\", \"x\": [100, 200, 400], \"y\": [263.8816666615622, 394.4333333231243, 655.5366666462487], \"type\": \"scatter\", \"uid\": \"ee180e56-835d-11e9-81b8-116be6612965\"}, {\"mode\": \"lines\", \"name\": \"m:1.31\", \"x\": [100, 200, 400], \"y\": [263.88166666370677, 394.4333333274135, 655.5366666548271], \"type\": \"scatter\", \"uid\": \"ee180eec-835d-11e9-81b8-116be6612965\"}, {\"mode\": \"lines\", \"name\": \"m:1.31\", \"x\": [100, 200, 400], \"y\": [263.8816666649401, 394.43333332988016, 655.5366666597603], \"type\": \"scatter\", \"uid\": \"ee180f8c-835d-11e9-81b8-116be6612965\"}, {\"mode\": \"lines\", \"name\": \"m:1.31\", \"x\": [100, 200, 400], \"y\": [263.8816666656659, 394.4333333313317, 655.5366666626634], \"type\": \"scatter\", \"uid\": \"ee181022-835d-11e9-81b8-116be6612965\"}, {\"mode\": \"lines\", \"name\": \"m:1.31\", \"x\": [100, 200, 400], \"y\": [263.88166666608606, 394.4333333321721, 655.5366666643441], \"type\": \"scatter\", \"uid\": \"ee1810c2-835d-11e9-81b8-116be6612965\"}, {\"mode\": \"lines\", \"name\": \"m:1.31\", \"x\": [100, 200, 400], \"y\": [263.8816666663316, 394.4333333326632, 655.5366666653264], \"type\": \"scatter\", \"uid\": \"ee181162-835d-11e9-81b8-116be6612965\"}, {\"mode\": \"lines\", \"name\": \"m:1.31\", \"x\": [100, 200, 400], \"y\": [263.8816666664717, 394.43333333294333, 655.5366666658866], \"type\": \"scatter\", \"uid\": \"ee181202-835d-11e9-81b8-116be6612965\"}, {\"mode\": \"lines\", \"name\": \"m:1.31\", \"x\": [100, 200, 400], \"y\": [263.88166666655536, 394.4333333331107, 655.5366666662213], \"type\": \"scatter\", \"uid\": \"ee1812ac-835d-11e9-81b8-116be6612965\"}, {\"mode\": \"lines\", \"name\": \"m:1.31\", \"x\": [100, 200, 400], \"y\": [263.88166666660265, 394.43333333320527, 655.5366666664105], \"type\": \"scatter\", \"uid\": \"ee18134c-835d-11e9-81b8-116be6612965\"}, {\"mode\": \"lines\", \"name\": \"m:1.31\", \"x\": [100, 200, 400], \"y\": [263.88166666662994, 394.43333333325984, 655.5366666665196], \"type\": \"scatter\", \"uid\": \"ee1813ec-835d-11e9-81b8-116be6612965\"}, {\"mode\": \"lines\", \"name\": \"m:1.31\", \"x\": [100, 200, 400], \"y\": [263.8816666666427, 394.4333333332853, 655.5366666665706], \"type\": \"scatter\", \"uid\": \"ee181482-835d-11e9-81b8-116be6612965\"}, {\"mode\": \"lines\", \"name\": \"m:1.31\", \"x\": [100, 200, 400], \"y\": [263.88166666665177, 394.4333333333035, 655.536666666607], \"type\": \"scatter\", \"uid\": \"ee181518-835d-11e9-81b8-116be6612965\"}, {\"mode\": \"lines\", \"name\": \"m:1.31\", \"x\": [100, 200, 400], \"y\": [263.8816666666572, 394.4333333333144, 655.5366666666288], \"type\": \"scatter\", \"uid\": \"ee1815b8-835d-11e9-81b8-116be6612965\"}, {\"mode\": \"lines\", \"name\": \"m:1.31\", \"x\": [100, 200, 400], \"y\": [263.8816666666627, 394.4333333333253, 655.5366666666506], \"type\": \"scatter\", \"uid\": \"ee18164e-835d-11e9-81b8-116be6612965\"}, {\"mode\": \"lines\", \"name\": \"m:1.31\", \"x\": [100, 200, 400], \"y\": [263.8816666666627, 394.4333333333253, 655.5366666666506], \"type\": \"scatter\", \"uid\": \"ee1816ee-835d-11e9-81b8-116be6612965\"}, {\"mode\": \"lines\", \"name\": \"m:1.31\", \"x\": [100, 200, 400], \"y\": [263.8816666666627, 394.4333333333253, 655.5366666666506], \"type\": \"scatter\", \"uid\": \"ee18178e-835d-11e9-81b8-116be6612965\"}, {\"mode\": \"lines\", \"name\": \"m:1.31\", \"x\": [100, 200, 400], \"y\": [263.8816666666627, 394.4333333333253, 655.5366666666506], \"type\": \"scatter\", \"uid\": \"ee181824-835d-11e9-81b8-116be6612965\"}, {\"mode\": \"lines\", \"name\": \"m:1.31\", \"x\": [100, 200, 400], \"y\": [263.8816666666627, 394.4333333333253, 655.5366666666506], \"type\": \"scatter\", \"uid\": \"ee1818c4-835d-11e9-81b8-116be6612965\"}, {\"mode\": \"lines\", \"name\": \"m:1.31\", \"x\": [100, 200, 400], \"y\": [263.8816666666627, 394.4333333333253, 655.5366666666506], \"type\": \"scatter\", \"uid\": \"ee18195a-835d-11e9-81b8-116be6612965\"}, {\"mode\": \"lines\", \"name\": \"m:1.31\", \"x\": [100, 200, 400], \"y\": [263.8816666666627, 394.4333333333253, 655.5366666666506], \"type\": \"scatter\", \"uid\": \"ee1819fa-835d-11e9-81b8-116be6612965\"}, {\"mode\": \"lines\", \"name\": \"m:1.31\", \"x\": [100, 200, 400], \"y\": [263.8816666666627, 394.4333333333253, 655.5366666666506], \"type\": \"scatter\", \"uid\": \"ee181aa4-835d-11e9-81b8-116be6612965\"}, {\"mode\": \"lines\", \"name\": \"m:1.31\", \"x\": [100, 200, 400], \"y\": [263.8816666666627, 394.4333333333253, 655.5366666666506], \"type\": \"scatter\", \"uid\": \"ee181b44-835d-11e9-81b8-116be6612965\"}, {\"mode\": \"lines\", \"name\": \"m:1.31\", \"x\": [100, 200, 400], \"y\": [263.8816666666627, 394.4333333333253, 655.5366666666506], \"type\": \"scatter\", \"uid\": \"ee181bda-835d-11e9-81b8-116be6612965\"}, {\"mode\": \"lines\", \"name\": \"m:1.31\", \"x\": [100, 200, 400], \"y\": [263.8816666666627, 394.4333333333253, 655.5366666666506], \"type\": \"scatter\", \"uid\": \"ee181c70-835d-11e9-81b8-116be6612965\"}, {\"mode\": \"lines\", \"name\": \"m:1.31\", \"x\": [100, 200, 400], \"y\": [263.8816666666627, 394.4333333333253, 655.5366666666506], \"type\": \"scatter\", \"uid\": \"ee181d10-835d-11e9-81b8-116be6612965\"}, {\"mode\": \"lines\", \"name\": \"m:1.31\", \"x\": [100, 200, 400], \"y\": [263.8816666666627, 394.4333333333253, 655.5366666666506], \"type\": \"scatter\", \"uid\": \"ee181da6-835d-11e9-81b8-116be6612965\"}, {\"mode\": \"lines\", \"name\": \"m:1.31\", \"x\": [100, 200, 400], \"y\": [263.8816666666627, 394.4333333333253, 655.5366666666506], \"type\": \"scatter\", \"uid\": \"ee181e46-835d-11e9-81b8-116be6612965\"}, {\"mode\": \"lines\", \"name\": \"m:1.31\", \"x\": [100, 200, 400], \"y\": [263.8816666666627, 394.4333333333253, 655.5366666666506], \"type\": \"scatter\", \"uid\": \"ee181f86-835d-11e9-81b8-116be6612965\"}, {\"mode\": \"lines\", \"name\": \"m:1.31\", \"x\": [100, 200, 400], \"y\": [263.8816666666627, 394.4333333333253, 655.5366666666506], \"type\": \"scatter\", \"uid\": \"ee182026-835d-11e9-81b8-116be6612965\"}, {\"mode\": \"lines\", \"name\": \"m:1.31\", \"x\": [100, 200, 400], \"y\": [263.8816666666627, 394.4333333333253, 655.5366666666506], \"type\": \"scatter\", \"uid\": \"ee1820bc-835d-11e9-81b8-116be6612965\"}, {\"mode\": \"lines\", \"name\": \"m:1.31\", \"x\": [100, 200, 400], \"y\": [263.8816666666627, 394.4333333333253, 655.5366666666506], \"type\": \"scatter\", \"uid\": \"ee1821d4-835d-11e9-81b8-116be6612965\"}, {\"mode\": \"lines\", \"name\": \"m:1.31\", \"x\": [100, 200, 400], \"y\": [263.8816666666627, 394.4333333333253, 655.5366666666506], \"type\": \"scatter\", \"uid\": \"ee182260-835d-11e9-81b8-116be6612965\"}, {\"mode\": \"lines\", \"name\": \"m:1.31\", \"x\": [100, 200, 400], \"y\": [263.8816666666627, 394.4333333333253, 655.5366666666506], \"type\": \"scatter\", \"uid\": \"ee1822ec-835d-11e9-81b8-116be6612965\"}, {\"mode\": \"lines\", \"name\": \"m:1.31\", \"x\": [100, 200, 400], \"y\": [263.8816666666627, 394.4333333333253, 655.5366666666506], \"type\": \"scatter\", \"uid\": \"ee18238c-835d-11e9-81b8-116be6612965\"}, {\"mode\": \"lines\", \"name\": \"m:1.31\", \"x\": [100, 200, 400], \"y\": [263.8816666666627, 394.4333333333253, 655.5366666666506], \"type\": \"scatter\", \"uid\": \"ee182418-835d-11e9-81b8-116be6612965\"}, {\"mode\": \"lines\", \"name\": \"m:1.31\", \"x\": [100, 200, 400], \"y\": [263.8816666666627, 394.4333333333253, 655.5366666666506], \"type\": \"scatter\", \"uid\": \"ee1824a4-835d-11e9-81b8-116be6612965\"}, {\"mode\": \"lines\", \"name\": \"m:1.31\", \"x\": [100, 200, 400], \"y\": [263.8816666666627, 394.4333333333253, 655.5366666666506], \"type\": \"scatter\", \"uid\": \"ee182530-835d-11e9-81b8-116be6612965\"}, {\"mode\": \"lines\", \"name\": \"m:1.31\", \"x\": [100, 200, 400], \"y\": [263.8816666666627, 394.4333333333253, 655.5366666666506], \"type\": \"scatter\", \"uid\": \"ee182620-835d-11e9-81b8-116be6612965\"}, {\"mode\": \"lines\", \"name\": \"m:1.31\", \"x\": [100, 200, 400], \"y\": [263.8816666666627, 394.4333333333253, 655.5366666666506], \"type\": \"scatter\", \"uid\": \"ee182738-835d-11e9-81b8-116be6612965\"}, {\"mode\": \"lines\", \"name\": \"m:1.31\", \"x\": [100, 200, 400], \"y\": [263.8816666666627, 394.4333333333253, 655.5366666666506], \"type\": \"scatter\", \"uid\": \"ee182800-835d-11e9-81b8-116be6612965\"}, {\"mode\": \"lines\", \"name\": \"m:1.31\", \"x\": [100, 200, 400], \"y\": [263.8816666666627, 394.4333333333253, 655.5366666666506], \"type\": \"scatter\", \"uid\": \"ee1828be-835d-11e9-81b8-116be6612965\"}, {\"mode\": \"lines\", \"name\": \"m:1.31\", \"x\": [100, 200, 400], \"y\": [263.8816666666627, 394.4333333333253, 655.5366666666506], \"type\": \"scatter\", \"uid\": \"ee18297c-835d-11e9-81b8-116be6612965\"}, {\"mode\": \"lines\", \"name\": \"m:1.31\", \"x\": [100, 200, 400], \"y\": [263.8816666666627, 394.4333333333253, 655.5366666666506], \"type\": \"scatter\", \"uid\": \"ee182a3a-835d-11e9-81b8-116be6612965\"}, {\"mode\": \"lines\", \"name\": \"m:1.31\", \"x\": [100, 200, 400], \"y\": [263.8816666666627, 394.4333333333253, 655.5366666666506], \"type\": \"scatter\", \"uid\": \"ee182b20-835d-11e9-81b8-116be6612965\"}, {\"mode\": \"lines\", \"name\": \"m:1.31\", \"x\": [100, 200, 400], \"y\": [263.8816666666627, 394.4333333333253, 655.5366666666506], \"type\": \"scatter\", \"uid\": \"ee182bde-835d-11e9-81b8-116be6612965\"}, {\"mode\": \"lines\", \"name\": \"m:1.31\", \"x\": [100, 200, 400], \"y\": [263.8816666666627, 394.4333333333253, 655.5366666666506], \"type\": \"scatter\", \"uid\": \"ee182c9c-835d-11e9-81b8-116be6612965\"}, {\"mode\": \"lines\", \"name\": \"m:1.31\", \"x\": [100, 200, 400], \"y\": [263.8816666666627, 394.4333333333253, 655.5366666666506], \"type\": \"scatter\", \"uid\": \"ee182d50-835d-11e9-81b8-116be6612965\"}, {\"mode\": \"lines\", \"name\": \"m:1.31\", \"x\": [100, 200, 400], \"y\": [263.8816666666627, 394.4333333333253, 655.5366666666506], \"type\": \"scatter\", \"uid\": \"ee182ddc-835d-11e9-81b8-116be6612965\"}, {\"mode\": \"lines\", \"name\": \"m:1.31\", \"x\": [100, 200, 400], \"y\": [263.8816666666627, 394.4333333333253, 655.5366666666506], \"type\": \"scatter\", \"uid\": \"ee182e68-835d-11e9-81b8-116be6612965\"}, {\"mode\": \"lines\", \"name\": \"m:1.31\", \"x\": [100, 200, 400], \"y\": [263.8816666666627, 394.4333333333253, 655.5366666666506], \"type\": \"scatter\", \"uid\": \"ee182ef4-835d-11e9-81b8-116be6612965\"}, {\"mode\": \"lines\", \"name\": \"m:1.31\", \"x\": [100, 200, 400], \"y\": [263.8816666666627, 394.4333333333253, 655.5366666666506], \"type\": \"scatter\", \"uid\": \"ee182f80-835d-11e9-81b8-116be6612965\"}, {\"mode\": \"lines\", \"name\": \"m:1.31\", \"x\": [100, 200, 400], \"y\": [263.8816666666627, 394.4333333333253, 655.5366666666506], \"type\": \"scatter\", \"uid\": \"ee183002-835d-11e9-81b8-116be6612965\"}, {\"mode\": \"lines\", \"name\": \"m:1.31\", \"x\": [100, 200, 400], \"y\": [263.8816666666627, 394.4333333333253, 655.5366666666506], \"type\": \"scatter\", \"uid\": \"ee18308e-835d-11e9-81b8-116be6612965\"}, {\"mode\": \"lines\", \"name\": \"m:1.31\", \"x\": [100, 200, 400], \"y\": [263.8816666666627, 394.4333333333253, 655.5366666666506], \"type\": \"scatter\", \"uid\": \"ee183110-835d-11e9-81b8-116be6612965\"}, {\"mode\": \"lines\", \"name\": \"m:1.31\", \"x\": [100, 200, 400], \"y\": [263.8816666666627, 394.4333333333253, 655.5366666666506], \"type\": \"scatter\", \"uid\": \"ee18319c-835d-11e9-81b8-116be6612965\"}, {\"mode\": \"lines\", \"name\": \"m:1.31\", \"x\": [100, 200, 400], \"y\": [263.8816666666627, 394.4333333333253, 655.5366666666506], \"type\": \"scatter\", \"uid\": \"ee183228-835d-11e9-81b8-116be6612965\"}, {\"mode\": \"lines\", \"name\": \"m:1.31\", \"x\": [100, 200, 400], \"y\": [263.8816666666627, 394.4333333333253, 655.5366666666506], \"type\": \"scatter\", \"uid\": \"ee1832aa-835d-11e9-81b8-116be6612965\"}, {\"mode\": \"lines\", \"name\": \"m:1.31\", \"x\": [100, 200, 400], \"y\": [263.8816666666627, 394.4333333333253, 655.5366666666506], \"type\": \"scatter\", \"uid\": \"ee183336-835d-11e9-81b8-116be6612965\"}, {\"mode\": \"lines\", \"name\": \"m:1.31\", \"x\": [100, 200, 400], \"y\": [263.8816666666627, 394.4333333333253, 655.5366666666506], \"type\": \"scatter\", \"uid\": \"ee1833b8-835d-11e9-81b8-116be6612965\"}, {\"mode\": \"lines\", \"name\": \"m:1.31\", \"x\": [100, 200, 400], \"y\": [263.8816666666627, 394.4333333333253, 655.5366666666506], \"type\": \"scatter\", \"uid\": \"ee18344e-835d-11e9-81b8-116be6612965\"}, {\"mode\": \"lines\", \"name\": \"m:1.31\", \"x\": [100, 200, 400], \"y\": [263.8816666666627, 394.4333333333253, 655.5366666666506], \"type\": \"scatter\", \"uid\": \"ee1834da-835d-11e9-81b8-116be6612965\"}, {\"mode\": \"lines\", \"name\": \"m:1.31\", \"x\": [100, 200, 400], \"y\": [263.8816666666627, 394.4333333333253, 655.5366666666506], \"type\": \"scatter\", \"uid\": \"ee18355c-835d-11e9-81b8-116be6612965\"}, {\"mode\": \"lines\", \"name\": \"m:1.31\", \"x\": [100, 200, 400], \"y\": [263.8816666666627, 394.4333333333253, 655.5366666666506], \"type\": \"scatter\", \"uid\": \"ee1835de-835d-11e9-81b8-116be6612965\"}, {\"mode\": \"lines\", \"name\": \"m:1.31\", \"x\": [100, 200, 400], \"y\": [263.8816666666627, 394.4333333333253, 655.5366666666506], \"type\": \"scatter\", \"uid\": \"ee18366a-835d-11e9-81b8-116be6612965\"}], {}, {\"showLink\": true, \"linkText\": \"Export to plot.ly\"})});</script>"
      ],
      "text/vnd.plotly.v1+html": [
       "<div id=\"4bdc7f6a-cfe5-4a9e-aa84-4f73f2ffe919\" style=\"height: 525px; width: 100%;\" class=\"plotly-graph-div\"></div><script type=\"text/javascript\">require([\"plotly\"], function(Plotly) { window.PLOTLYENV=window.PLOTLYENV || {};window.PLOTLYENV.BASE_URL=\"https://plot.ly\";Plotly.newPlot(\"4bdc7f6a-cfe5-4a9e-aa84-4f73f2ffe919\", [{\"mode\": \"markers\", \"name\": \"data\", \"text\": [], \"x\": [100, 200, 400], \"y\": [275, 300, 700], \"type\": \"scatter\", \"uid\": \"ee17ef48-835d-11e9-81b8-116be6612965\"}, {\"mode\": \"lines\", \"name\": \"m:0\", \"x\": [100, 200, 400], \"y\": [133.33, 133.33, 133.33], \"type\": \"scatter\", \"uid\": \"ee17f178-835d-11e9-81b8-116be6612965\"}, {\"mode\": \"lines\", \"name\": \"m:0.55\", \"x\": [100, 200, 400], \"y\": [188.16169999998064, 242.99339999996124, 352.6567999999225], \"type\": \"scatter\", \"uid\": \"ee17f254-835d-11e9-81b8-116be6612965\"}, {\"mode\": \"lines\", \"name\": \"m:0.87\", \"x\": [100, 200, 400], \"y\": [219.96408600000547, 306.59817200001095, 479.86634400002185], \"type\": \"scatter\", \"uid\": \"ee17f376-835d-11e9-81b8-116be6612965\"}, {\"mode\": \"lines\", \"name\": \"m:1.05\", \"x\": [100, 200, 400], \"y\": [238.40946988004552, 343.48893976009106, 553.6478795201821], \"type\": \"scatter\", \"uid\": \"ee17f42a-835d-11e9-81b8-116be6612965\"}, {\"mode\": \"lines\", \"name\": \"m:1.16\", \"x\": [100, 200, 400], \"y\": [249.1077925304181, 364.8855850608362, 596.4411701216724], \"type\": \"scatter\", \"uid\": \"ee17f4ca-835d-11e9-81b8-116be6612965\"}, {\"mode\": \"lines\", \"name\": \"m:1.22\", \"x\": [100, 200, 400], \"y\": [255.312819667639, 377.295639335278, 621.261278670556], \"type\": \"scatter\", \"uid\": \"ee17f574-835d-11e9-81b8-116be6612965\"}, {\"mode\": \"lines\", \"name\": \"m:1.26\", \"x\": [100, 200, 400], \"y\": [258.9117354072278, 384.49347081445563, 635.6569416289112], \"type\": \"scatter\", \"uid\": \"ee17f614-835d-11e9-81b8-116be6612965\"}, {\"mode\": \"lines\", \"name\": \"m:1.28\", \"x\": [100, 200, 400], \"y\": [260.9991065361975, 388.6682130723949, 644.0064261447898], \"type\": \"scatter\", \"uid\": \"ee17f6b4-835d-11e9-81b8-116be6612965\"}, {\"mode\": \"lines\", \"name\": \"m:1.29\", \"x\": [100, 200, 400], \"y\": [262.2097817909945, 391.08956358198895, 648.8491271639779], \"type\": \"scatter\", \"uid\": \"ee17f75e-835d-11e9-81b8-116be6612965\"}, {\"mode\": \"lines\", \"name\": \"m:1.3\", \"x\": [100, 200, 400], \"y\": [262.91197343877695, 392.49394687755387, 651.6578937551077], \"type\": \"scatter\", \"uid\": \"ee17f7f4-835d-11e9-81b8-116be6612965\"}, {\"mode\": \"lines\", \"name\": \"m:1.3\", \"x\": [100, 200, 400], \"y\": [263.31924459448976, 393.3084891889795, 653.2869783779589], \"type\": \"scatter\", \"uid\": \"ee17f894-835d-11e9-81b8-116be6612965\"}, {\"mode\": \"lines\", \"name\": \"m:1.3\", \"x\": [100, 200, 400], \"y\": [263.5554618648021, 393.7809237296042, 654.2318474592084], \"type\": \"scatter\", \"uid\": \"ee17f934-835d-11e9-81b8-116be6612965\"}, {\"mode\": \"lines\", \"name\": \"m:1.3\", \"x\": [100, 200, 400], \"y\": [263.69246788157585, 394.05493576315166, 654.7798715263034], \"type\": \"scatter\", \"uid\": \"ee17fa42-835d-11e9-81b8-116be6612965\"}, {\"mode\": \"lines\", \"name\": \"m:1.3\", \"x\": [100, 200, 400], \"y\": [263.77193137131513, 394.2138627426302, 655.0977254852605], \"type\": \"scatter\", \"uid\": \"ee17faec-835d-11e9-81b8-116be6612965\"}, {\"mode\": \"lines\", \"name\": \"m:1.3\", \"x\": [100, 200, 400], \"y\": [263.81802019536195, 394.30604039072387, 655.2820807814478], \"type\": \"scatter\", \"uid\": \"ee17fb8c-835d-11e9-81b8-116be6612965\"}, {\"mode\": \"lines\", \"name\": \"m:1.31\", \"x\": [100, 200, 400], \"y\": [263.84475171331, 394.35950342662, 655.3890068532401], \"type\": \"scatter\", \"uid\": \"ee17fc2c-835d-11e9-81b8-116be6612965\"}, {\"mode\": \"lines\", \"name\": \"m:1.31\", \"x\": [100, 200, 400], \"y\": [263.86025599371, 394.3905119874199, 655.4510239748398], \"type\": \"scatter\", \"uid\": \"ee17fcd6-835d-11e9-81b8-116be6612965\"}, {\"mode\": \"lines\", \"name\": \"m:1.31\", \"x\": [100, 200, 400], \"y\": [263.8692484763525, 394.4084969527049, 655.4869939054098], \"type\": \"scatter\", \"uid\": \"ee17fd76-835d-11e9-81b8-116be6612965\"}, {\"mode\": \"lines\", \"name\": \"m:1.31\", \"x\": [100, 200, 400], \"y\": [263.8744641162831, 394.41892823256615, 655.5078564651322], \"type\": \"scatter\", \"uid\": \"ee17fe16-835d-11e9-81b8-116be6612965\"}, {\"mode\": \"lines\", \"name\": \"m:1.31\", \"x\": [100, 200, 400], \"y\": [263.8774891874455, 394.424978374891, 655.5199567497821], \"type\": \"scatter\", \"uid\": \"ee17fec0-835d-11e9-81b8-116be6612965\"}, {\"mode\": \"lines\", \"name\": \"m:1.31\", \"x\": [100, 200, 400], \"y\": [263.87924372871026, 394.4284874574205, 655.526974914841], \"type\": \"scatter\", \"uid\": \"ee17ff60-835d-11e9-81b8-116be6612965\"}, {\"mode\": \"lines\", \"name\": \"m:1.31\", \"x\": [100, 200, 400], \"y\": [263.8802613626413, 394.4305227252826, 655.5310454505652], \"type\": \"scatter\", \"uid\": \"ee180000-835d-11e9-81b8-116be6612965\"}, {\"mode\": \"lines\", \"name\": \"m:1.31\", \"x\": [100, 200, 400], \"y\": [263.88085159033295, 394.43170318066586, 655.5334063613318], \"type\": \"scatter\", \"uid\": \"ee1800a0-835d-11e9-81b8-116be6612965\"}, {\"mode\": \"lines\", \"name\": \"m:1.31\", \"x\": [100, 200, 400], \"y\": [263.8811939223834, 394.4323878447667, 655.5347756895335], \"type\": \"scatter\", \"uid\": \"ee180140-835d-11e9-81b8-116be6612965\"}, {\"mode\": \"lines\", \"name\": \"m:1.31\", \"x\": [100, 200, 400], \"y\": [263.8813924749721, 394.4327849499441, 655.5355698998883], \"type\": \"scatter\", \"uid\": \"ee1801e0-835d-11e9-81b8-116be6612965\"}, {\"mode\": \"lines\", \"name\": \"m:1.31\", \"x\": [100, 200, 400], \"y\": [263.88150763547503, 394.43301527095, 655.5360305419], \"type\": \"scatter\", \"uid\": \"ee18029e-835d-11e9-81b8-116be6612965\"}, {\"mode\": \"lines\", \"name\": \"m:1.31\", \"x\": [100, 200, 400], \"y\": [263.8815744285749, 394.4331488571497, 655.5362977142995], \"type\": \"scatter\", \"uid\": \"ee180348-835d-11e9-81b8-116be6612965\"}, {\"mode\": \"lines\", \"name\": \"m:1.31\", \"x\": [100, 200, 400], \"y\": [263.88161316856537, 394.4332263371307, 655.5364526742615], \"type\": \"scatter\", \"uid\": \"ee1803e8-835d-11e9-81b8-116be6612965\"}, {\"mode\": \"lines\", \"name\": \"m:1.31\", \"x\": [100, 200, 400], \"y\": [263.8816356377557, 394.4332712755114, 655.5365425510228], \"type\": \"scatter\", \"uid\": \"ee180488-835d-11e9-81b8-116be6612965\"}, {\"mode\": \"lines\", \"name\": \"m:1.31\", \"x\": [100, 200, 400], \"y\": [263.88164866989797, 394.4332973397959, 655.5365946795919], \"type\": \"scatter\", \"uid\": \"ee18051e-835d-11e9-81b8-116be6612965\"}, {\"mode\": \"lines\", \"name\": \"m:1.31\", \"x\": [100, 200, 400], \"y\": [263.88165622853205, 394.43331245706406, 655.5366249141281], \"type\": \"scatter\", \"uid\": \"ee1805b4-835d-11e9-81b8-116be6612965\"}, {\"mode\": \"lines\", \"name\": \"m:1.31\", \"x\": [100, 200, 400], \"y\": [263.8816606125457, 394.4333212250914, 655.5366424501827], \"type\": \"scatter\", \"uid\": \"ee18065e-835d-11e9-81b8-116be6612965\"}, {\"mode\": \"lines\", \"name\": \"m:1.31\", \"x\": [100, 200, 400], \"y\": [263.88166315528, 394.43332631056, 655.5366526211201], \"type\": \"scatter\", \"uid\": \"ee1806f4-835d-11e9-81b8-116be6612965\"}, {\"mode\": \"lines\", \"name\": \"m:1.31\", \"x\": [100, 200, 400], \"y\": [263.88166463005297, 394.4333292601059, 655.5366585202119], \"type\": \"scatter\", \"uid\": \"ee18078a-835d-11e9-81b8-116be6612965\"}, {\"mode\": \"lines\", \"name\": \"m:1.31\", \"x\": [100, 200, 400], \"y\": [263.88166548542006, 394.4333309708401, 655.5366619416801], \"type\": \"scatter\", \"uid\": \"ee18082a-835d-11e9-81b8-116be6612965\"}, {\"mode\": \"lines\", \"name\": \"m:1.31\", \"x\": [100, 200, 400], \"y\": [263.88166598154396, 394.4333319630879, 655.5366639261757], \"type\": \"scatter\", \"uid\": \"ee1808ca-835d-11e9-81b8-116be6612965\"}, {\"mode\": \"lines\", \"name\": \"m:1.31\", \"x\": [100, 200, 400], \"y\": [263.88166626929535, 394.43333253859066, 655.5366650771813], \"type\": \"scatter\", \"uid\": \"ee180960-835d-11e9-81b8-116be6612965\"}, {\"mode\": \"lines\", \"name\": \"m:1.31\", \"x\": [100, 200, 400], \"y\": [263.88166643619127, 394.4333328723825, 655.536665744765], \"type\": \"scatter\", \"uid\": \"ee180a00-835d-11e9-81b8-116be6612965\"}, {\"mode\": \"lines\", \"name\": \"m:1.31\", \"x\": [100, 200, 400], \"y\": [263.8816665329906, 394.4333330659812, 655.5366661319623], \"type\": \"scatter\", \"uid\": \"ee180aaa-835d-11e9-81b8-116be6612965\"}, {\"mode\": \"lines\", \"name\": \"m:1.31\", \"x\": [100, 200, 400], \"y\": [263.88166658914463, 394.4333331782892, 655.5366663565784], \"type\": \"scatter\", \"uid\": \"ee180b4a-835d-11e9-81b8-116be6612965\"}, {\"mode\": \"lines\", \"name\": \"m:1.31\", \"x\": [100, 200, 400], \"y\": [263.88166662170454, 394.43333324340904, 655.536666486818], \"type\": \"scatter\", \"uid\": \"ee180be0-835d-11e9-81b8-116be6612965\"}, {\"mode\": \"lines\", \"name\": \"m:1.31\", \"x\": [100, 200, 400], \"y\": [263.8816666405911, 394.4333332811822, 655.5366665623643], \"type\": \"scatter\", \"uid\": \"ee180c80-835d-11e9-81b8-116be6612965\"}, {\"mode\": \"lines\", \"name\": \"m:1.31\", \"x\": [100, 200, 400], \"y\": [263.88166665154137, 394.4333333030827, 655.5366666061655], \"type\": \"scatter\", \"uid\": \"ee180d16-835d-11e9-81b8-116be6612965\"}, {\"mode\": \"lines\", \"name\": \"m:1.31\", \"x\": [100, 200, 400], \"y\": [263.8816666578842, 394.4333333157683, 655.5366666315367], \"type\": \"scatter\", \"uid\": \"ee180db6-835d-11e9-81b8-116be6612965\"}, {\"mode\": \"lines\", \"name\": \"m:1.31\", \"x\": [100, 200, 400], \"y\": [263.8816666615622, 394.4333333231243, 655.5366666462487], \"type\": \"scatter\", \"uid\": \"ee180e56-835d-11e9-81b8-116be6612965\"}, {\"mode\": \"lines\", \"name\": \"m:1.31\", \"x\": [100, 200, 400], \"y\": [263.88166666370677, 394.4333333274135, 655.5366666548271], \"type\": \"scatter\", \"uid\": \"ee180eec-835d-11e9-81b8-116be6612965\"}, {\"mode\": \"lines\", \"name\": \"m:1.31\", \"x\": [100, 200, 400], \"y\": [263.8816666649401, 394.43333332988016, 655.5366666597603], \"type\": \"scatter\", \"uid\": \"ee180f8c-835d-11e9-81b8-116be6612965\"}, {\"mode\": \"lines\", \"name\": \"m:1.31\", \"x\": [100, 200, 400], \"y\": [263.8816666656659, 394.4333333313317, 655.5366666626634], \"type\": \"scatter\", \"uid\": \"ee181022-835d-11e9-81b8-116be6612965\"}, {\"mode\": \"lines\", \"name\": \"m:1.31\", \"x\": [100, 200, 400], \"y\": [263.88166666608606, 394.4333333321721, 655.5366666643441], \"type\": \"scatter\", \"uid\": \"ee1810c2-835d-11e9-81b8-116be6612965\"}, {\"mode\": \"lines\", \"name\": \"m:1.31\", \"x\": [100, 200, 400], \"y\": [263.8816666663316, 394.4333333326632, 655.5366666653264], \"type\": \"scatter\", \"uid\": \"ee181162-835d-11e9-81b8-116be6612965\"}, {\"mode\": \"lines\", \"name\": \"m:1.31\", \"x\": [100, 200, 400], \"y\": [263.8816666664717, 394.43333333294333, 655.5366666658866], \"type\": \"scatter\", \"uid\": \"ee181202-835d-11e9-81b8-116be6612965\"}, {\"mode\": \"lines\", \"name\": \"m:1.31\", \"x\": [100, 200, 400], \"y\": [263.88166666655536, 394.4333333331107, 655.5366666662213], \"type\": \"scatter\", \"uid\": \"ee1812ac-835d-11e9-81b8-116be6612965\"}, {\"mode\": \"lines\", \"name\": \"m:1.31\", \"x\": [100, 200, 400], \"y\": [263.88166666660265, 394.43333333320527, 655.5366666664105], \"type\": \"scatter\", \"uid\": \"ee18134c-835d-11e9-81b8-116be6612965\"}, {\"mode\": \"lines\", \"name\": \"m:1.31\", \"x\": [100, 200, 400], \"y\": [263.88166666662994, 394.43333333325984, 655.5366666665196], \"type\": \"scatter\", \"uid\": \"ee1813ec-835d-11e9-81b8-116be6612965\"}, {\"mode\": \"lines\", \"name\": \"m:1.31\", \"x\": [100, 200, 400], \"y\": [263.8816666666427, 394.4333333332853, 655.5366666665706], \"type\": \"scatter\", \"uid\": \"ee181482-835d-11e9-81b8-116be6612965\"}, {\"mode\": \"lines\", \"name\": \"m:1.31\", \"x\": [100, 200, 400], \"y\": [263.88166666665177, 394.4333333333035, 655.536666666607], \"type\": \"scatter\", \"uid\": \"ee181518-835d-11e9-81b8-116be6612965\"}, {\"mode\": \"lines\", \"name\": \"m:1.31\", \"x\": [100, 200, 400], \"y\": [263.8816666666572, 394.4333333333144, 655.5366666666288], \"type\": \"scatter\", \"uid\": \"ee1815b8-835d-11e9-81b8-116be6612965\"}, {\"mode\": \"lines\", \"name\": \"m:1.31\", \"x\": [100, 200, 400], \"y\": [263.8816666666627, 394.4333333333253, 655.5366666666506], \"type\": \"scatter\", \"uid\": \"ee18164e-835d-11e9-81b8-116be6612965\"}, {\"mode\": \"lines\", \"name\": \"m:1.31\", \"x\": [100, 200, 400], \"y\": [263.8816666666627, 394.4333333333253, 655.5366666666506], \"type\": \"scatter\", \"uid\": \"ee1816ee-835d-11e9-81b8-116be6612965\"}, {\"mode\": \"lines\", \"name\": \"m:1.31\", \"x\": [100, 200, 400], \"y\": [263.8816666666627, 394.4333333333253, 655.5366666666506], \"type\": \"scatter\", \"uid\": \"ee18178e-835d-11e9-81b8-116be6612965\"}, {\"mode\": \"lines\", \"name\": \"m:1.31\", \"x\": [100, 200, 400], \"y\": [263.8816666666627, 394.4333333333253, 655.5366666666506], \"type\": \"scatter\", \"uid\": \"ee181824-835d-11e9-81b8-116be6612965\"}, {\"mode\": \"lines\", \"name\": \"m:1.31\", \"x\": [100, 200, 400], \"y\": [263.8816666666627, 394.4333333333253, 655.5366666666506], \"type\": \"scatter\", \"uid\": \"ee1818c4-835d-11e9-81b8-116be6612965\"}, {\"mode\": \"lines\", \"name\": \"m:1.31\", \"x\": [100, 200, 400], \"y\": [263.8816666666627, 394.4333333333253, 655.5366666666506], \"type\": \"scatter\", \"uid\": \"ee18195a-835d-11e9-81b8-116be6612965\"}, {\"mode\": \"lines\", \"name\": \"m:1.31\", \"x\": [100, 200, 400], \"y\": [263.8816666666627, 394.4333333333253, 655.5366666666506], \"type\": \"scatter\", \"uid\": \"ee1819fa-835d-11e9-81b8-116be6612965\"}, {\"mode\": \"lines\", \"name\": \"m:1.31\", \"x\": [100, 200, 400], \"y\": [263.8816666666627, 394.4333333333253, 655.5366666666506], \"type\": \"scatter\", \"uid\": \"ee181aa4-835d-11e9-81b8-116be6612965\"}, {\"mode\": \"lines\", \"name\": \"m:1.31\", \"x\": [100, 200, 400], \"y\": [263.8816666666627, 394.4333333333253, 655.5366666666506], \"type\": \"scatter\", \"uid\": \"ee181b44-835d-11e9-81b8-116be6612965\"}, {\"mode\": \"lines\", \"name\": \"m:1.31\", \"x\": [100, 200, 400], \"y\": [263.8816666666627, 394.4333333333253, 655.5366666666506], \"type\": \"scatter\", \"uid\": \"ee181bda-835d-11e9-81b8-116be6612965\"}, {\"mode\": \"lines\", \"name\": \"m:1.31\", \"x\": [100, 200, 400], \"y\": [263.8816666666627, 394.4333333333253, 655.5366666666506], \"type\": \"scatter\", \"uid\": \"ee181c70-835d-11e9-81b8-116be6612965\"}, {\"mode\": \"lines\", \"name\": \"m:1.31\", \"x\": [100, 200, 400], \"y\": [263.8816666666627, 394.4333333333253, 655.5366666666506], \"type\": \"scatter\", \"uid\": \"ee181d10-835d-11e9-81b8-116be6612965\"}, {\"mode\": \"lines\", \"name\": \"m:1.31\", \"x\": [100, 200, 400], \"y\": [263.8816666666627, 394.4333333333253, 655.5366666666506], \"type\": \"scatter\", \"uid\": \"ee181da6-835d-11e9-81b8-116be6612965\"}, {\"mode\": \"lines\", \"name\": \"m:1.31\", \"x\": [100, 200, 400], \"y\": [263.8816666666627, 394.4333333333253, 655.5366666666506], \"type\": \"scatter\", \"uid\": \"ee181e46-835d-11e9-81b8-116be6612965\"}, {\"mode\": \"lines\", \"name\": \"m:1.31\", \"x\": [100, 200, 400], \"y\": [263.8816666666627, 394.4333333333253, 655.5366666666506], \"type\": \"scatter\", \"uid\": \"ee181f86-835d-11e9-81b8-116be6612965\"}, {\"mode\": \"lines\", \"name\": \"m:1.31\", \"x\": [100, 200, 400], \"y\": [263.8816666666627, 394.4333333333253, 655.5366666666506], \"type\": \"scatter\", \"uid\": \"ee182026-835d-11e9-81b8-116be6612965\"}, {\"mode\": \"lines\", \"name\": \"m:1.31\", \"x\": [100, 200, 400], \"y\": [263.8816666666627, 394.4333333333253, 655.5366666666506], \"type\": \"scatter\", \"uid\": \"ee1820bc-835d-11e9-81b8-116be6612965\"}, {\"mode\": \"lines\", \"name\": \"m:1.31\", \"x\": [100, 200, 400], \"y\": [263.8816666666627, 394.4333333333253, 655.5366666666506], \"type\": \"scatter\", \"uid\": \"ee1821d4-835d-11e9-81b8-116be6612965\"}, {\"mode\": \"lines\", \"name\": \"m:1.31\", \"x\": [100, 200, 400], \"y\": [263.8816666666627, 394.4333333333253, 655.5366666666506], \"type\": \"scatter\", \"uid\": \"ee182260-835d-11e9-81b8-116be6612965\"}, {\"mode\": \"lines\", \"name\": \"m:1.31\", \"x\": [100, 200, 400], \"y\": [263.8816666666627, 394.4333333333253, 655.5366666666506], \"type\": \"scatter\", \"uid\": \"ee1822ec-835d-11e9-81b8-116be6612965\"}, {\"mode\": \"lines\", \"name\": \"m:1.31\", \"x\": [100, 200, 400], \"y\": [263.8816666666627, 394.4333333333253, 655.5366666666506], \"type\": \"scatter\", \"uid\": \"ee18238c-835d-11e9-81b8-116be6612965\"}, {\"mode\": \"lines\", \"name\": \"m:1.31\", \"x\": [100, 200, 400], \"y\": [263.8816666666627, 394.4333333333253, 655.5366666666506], \"type\": \"scatter\", \"uid\": \"ee182418-835d-11e9-81b8-116be6612965\"}, {\"mode\": \"lines\", \"name\": \"m:1.31\", \"x\": [100, 200, 400], \"y\": [263.8816666666627, 394.4333333333253, 655.5366666666506], \"type\": \"scatter\", \"uid\": \"ee1824a4-835d-11e9-81b8-116be6612965\"}, {\"mode\": \"lines\", \"name\": \"m:1.31\", \"x\": [100, 200, 400], \"y\": [263.8816666666627, 394.4333333333253, 655.5366666666506], \"type\": \"scatter\", \"uid\": \"ee182530-835d-11e9-81b8-116be6612965\"}, {\"mode\": \"lines\", \"name\": \"m:1.31\", \"x\": [100, 200, 400], \"y\": [263.8816666666627, 394.4333333333253, 655.5366666666506], \"type\": \"scatter\", \"uid\": \"ee182620-835d-11e9-81b8-116be6612965\"}, {\"mode\": \"lines\", \"name\": \"m:1.31\", \"x\": [100, 200, 400], \"y\": [263.8816666666627, 394.4333333333253, 655.5366666666506], \"type\": \"scatter\", \"uid\": \"ee182738-835d-11e9-81b8-116be6612965\"}, {\"mode\": \"lines\", \"name\": \"m:1.31\", \"x\": [100, 200, 400], \"y\": [263.8816666666627, 394.4333333333253, 655.5366666666506], \"type\": \"scatter\", \"uid\": \"ee182800-835d-11e9-81b8-116be6612965\"}, {\"mode\": \"lines\", \"name\": \"m:1.31\", \"x\": [100, 200, 400], \"y\": [263.8816666666627, 394.4333333333253, 655.5366666666506], \"type\": \"scatter\", \"uid\": \"ee1828be-835d-11e9-81b8-116be6612965\"}, {\"mode\": \"lines\", \"name\": \"m:1.31\", \"x\": [100, 200, 400], \"y\": [263.8816666666627, 394.4333333333253, 655.5366666666506], \"type\": \"scatter\", \"uid\": \"ee18297c-835d-11e9-81b8-116be6612965\"}, {\"mode\": \"lines\", \"name\": \"m:1.31\", \"x\": [100, 200, 400], \"y\": [263.8816666666627, 394.4333333333253, 655.5366666666506], \"type\": \"scatter\", \"uid\": \"ee182a3a-835d-11e9-81b8-116be6612965\"}, {\"mode\": \"lines\", \"name\": \"m:1.31\", \"x\": [100, 200, 400], \"y\": [263.8816666666627, 394.4333333333253, 655.5366666666506], \"type\": \"scatter\", \"uid\": \"ee182b20-835d-11e9-81b8-116be6612965\"}, {\"mode\": \"lines\", \"name\": \"m:1.31\", \"x\": [100, 200, 400], \"y\": [263.8816666666627, 394.4333333333253, 655.5366666666506], \"type\": \"scatter\", \"uid\": \"ee182bde-835d-11e9-81b8-116be6612965\"}, {\"mode\": \"lines\", \"name\": \"m:1.31\", \"x\": [100, 200, 400], \"y\": [263.8816666666627, 394.4333333333253, 655.5366666666506], \"type\": \"scatter\", \"uid\": \"ee182c9c-835d-11e9-81b8-116be6612965\"}, {\"mode\": \"lines\", \"name\": \"m:1.31\", \"x\": [100, 200, 400], \"y\": [263.8816666666627, 394.4333333333253, 655.5366666666506], \"type\": \"scatter\", \"uid\": \"ee182d50-835d-11e9-81b8-116be6612965\"}, {\"mode\": \"lines\", \"name\": \"m:1.31\", \"x\": [100, 200, 400], \"y\": [263.8816666666627, 394.4333333333253, 655.5366666666506], \"type\": \"scatter\", \"uid\": \"ee182ddc-835d-11e9-81b8-116be6612965\"}, {\"mode\": \"lines\", \"name\": \"m:1.31\", \"x\": [100, 200, 400], \"y\": [263.8816666666627, 394.4333333333253, 655.5366666666506], \"type\": \"scatter\", \"uid\": \"ee182e68-835d-11e9-81b8-116be6612965\"}, {\"mode\": \"lines\", \"name\": \"m:1.31\", \"x\": [100, 200, 400], \"y\": [263.8816666666627, 394.4333333333253, 655.5366666666506], \"type\": \"scatter\", \"uid\": \"ee182ef4-835d-11e9-81b8-116be6612965\"}, {\"mode\": \"lines\", \"name\": \"m:1.31\", \"x\": [100, 200, 400], \"y\": [263.8816666666627, 394.4333333333253, 655.5366666666506], \"type\": \"scatter\", \"uid\": \"ee182f80-835d-11e9-81b8-116be6612965\"}, {\"mode\": \"lines\", \"name\": \"m:1.31\", \"x\": [100, 200, 400], \"y\": [263.8816666666627, 394.4333333333253, 655.5366666666506], \"type\": \"scatter\", \"uid\": \"ee183002-835d-11e9-81b8-116be6612965\"}, {\"mode\": \"lines\", \"name\": \"m:1.31\", \"x\": [100, 200, 400], \"y\": [263.8816666666627, 394.4333333333253, 655.5366666666506], \"type\": \"scatter\", \"uid\": \"ee18308e-835d-11e9-81b8-116be6612965\"}, {\"mode\": \"lines\", \"name\": \"m:1.31\", \"x\": [100, 200, 400], \"y\": [263.8816666666627, 394.4333333333253, 655.5366666666506], \"type\": \"scatter\", \"uid\": \"ee183110-835d-11e9-81b8-116be6612965\"}, {\"mode\": \"lines\", \"name\": \"m:1.31\", \"x\": [100, 200, 400], \"y\": [263.8816666666627, 394.4333333333253, 655.5366666666506], \"type\": \"scatter\", \"uid\": \"ee18319c-835d-11e9-81b8-116be6612965\"}, {\"mode\": \"lines\", \"name\": \"m:1.31\", \"x\": [100, 200, 400], \"y\": [263.8816666666627, 394.4333333333253, 655.5366666666506], \"type\": \"scatter\", \"uid\": \"ee183228-835d-11e9-81b8-116be6612965\"}, {\"mode\": \"lines\", \"name\": \"m:1.31\", \"x\": [100, 200, 400], \"y\": [263.8816666666627, 394.4333333333253, 655.5366666666506], \"type\": \"scatter\", \"uid\": \"ee1832aa-835d-11e9-81b8-116be6612965\"}, {\"mode\": \"lines\", \"name\": \"m:1.31\", \"x\": [100, 200, 400], \"y\": [263.8816666666627, 394.4333333333253, 655.5366666666506], \"type\": \"scatter\", \"uid\": \"ee183336-835d-11e9-81b8-116be6612965\"}, {\"mode\": \"lines\", \"name\": \"m:1.31\", \"x\": [100, 200, 400], \"y\": [263.8816666666627, 394.4333333333253, 655.5366666666506], \"type\": \"scatter\", \"uid\": \"ee1833b8-835d-11e9-81b8-116be6612965\"}, {\"mode\": \"lines\", \"name\": \"m:1.31\", \"x\": [100, 200, 400], \"y\": [263.8816666666627, 394.4333333333253, 655.5366666666506], \"type\": \"scatter\", \"uid\": \"ee18344e-835d-11e9-81b8-116be6612965\"}, {\"mode\": \"lines\", \"name\": \"m:1.31\", \"x\": [100, 200, 400], \"y\": [263.8816666666627, 394.4333333333253, 655.5366666666506], \"type\": \"scatter\", \"uid\": \"ee1834da-835d-11e9-81b8-116be6612965\"}, {\"mode\": \"lines\", \"name\": \"m:1.31\", \"x\": [100, 200, 400], \"y\": [263.8816666666627, 394.4333333333253, 655.5366666666506], \"type\": \"scatter\", \"uid\": \"ee18355c-835d-11e9-81b8-116be6612965\"}, {\"mode\": \"lines\", \"name\": \"m:1.31\", \"x\": [100, 200, 400], \"y\": [263.8816666666627, 394.4333333333253, 655.5366666666506], \"type\": \"scatter\", \"uid\": \"ee1835de-835d-11e9-81b8-116be6612965\"}, {\"mode\": \"lines\", \"name\": \"m:1.31\", \"x\": [100, 200, 400], \"y\": [263.8816666666627, 394.4333333333253, 655.5366666666506], \"type\": \"scatter\", \"uid\": \"ee18366a-835d-11e9-81b8-116be6612965\"}], {}, {\"showLink\": true, \"linkText\": \"Export to plot.ly\"})});</script>"
      ]
     },
     "metadata": {},
     "output_type": "display_data"
    }
   ],
   "source": [
    "from plotly.offline import iplot, init_notebook_mode\n",
    "from graph import plot, m_b_trace\n",
    "import plotly.graph_objs as go\n",
    "\n",
    "init_notebook_mode(connected=True)\n",
    "\n",
    "from graph import trace_values, plot\n",
    "\n",
    "data_trace = trace_values(budgets, revenues)\n",
    "if descent_steps:\n",
    "    m_values = list(map(lambda step: step['m'] ,descent_steps))\n",
    "    regression_traces = list(map(lambda m: m_b_trace(m, 133.33, budgets, name = 'm:' + str(round(m, 2))), m_values))\n",
    "    plot([data_trace, *regression_traces])"
   ]
  },
  {
   "cell_type": "markdown",
   "metadata": {},
   "source": [
    "As you can see the slope converges towards a slope that better matches our data, around m = 1.3.  You can isolate how the line changes clicking on the names of the lines to the right, which toggles the display of the respective lines."
   ]
  },
  {
   "cell_type": "markdown",
   "metadata": {},
   "source": [
    "### Summary"
   ]
  },
  {
   "cell_type": "markdown",
   "metadata": {},
   "source": [
    "In this lesson, we learned some more about gradient descent.  We saw how gradient descent allows our function to improve to a regression line that better matches our data.  We see how to change our regression line, by looking at the Residual Sum of Squares related to current regression line. We update our regression line by looking at the rate of change of our RSS as we adjust our regression line in the right direction -- that is, the slope of our cost curve.  The larger the magnitude of our rate of change (or slope of our cost curve) the larger our step size.  This way, we take larger steps the further away we are from our minimizing our RSS, and take smaller steps as we converge towards our minimum RSS. "
   ]
  }
 ],
 "metadata": {
  "kernelspec": {
   "display_name": "Python 3",
   "language": "python",
   "name": "python3"
  },
  "language_info": {
   "codemirror_mode": {
    "name": "ipython",
    "version": 3
   },
   "file_extension": ".py",
   "mimetype": "text/x-python",
   "name": "python",
   "nbconvert_exporter": "python",
   "pygments_lexer": "ipython3",
   "version": "3.6.6"
  }
 },
 "nbformat": 4,
 "nbformat_minor": 2
}
